{
  "nbformat": 4,
  "nbformat_minor": 0,
  "metadata": {
    "colab": {
      "provenance": []
    },
    "kernelspec": {
      "name": "python3",
      "display_name": "Python 3"
    },
    "language_info": {
      "name": "python"
    }
  },
  "cells": [
    {
      "cell_type": "markdown",
      "source": [
        "# Финальный проект\n",
        "## на тему: Исследование любимой продукции на основе комментариев с магазинов: Золотое яблоко и Иль Де Боте за последний месяц\n",
        "Исполнители:\n",
        "- Галка Полина Руслановна\n",
        "- Шония Екатерина Георгиевна\n",
        "- Малютина Анна Николаевна\n",
        "- Кусаинов Роман"
      ],
      "metadata": {
        "id": "3lFZdxEXbKLV"
      }
    },
    {
      "cell_type": "markdown",
      "source": [
        "## Парсинг данных\n",
        "Ссылки на источники:\n",
        "- [Документация VK API](https://dev.vk.com/ru/reference)\n",
        "- [Документация API wall.getComments](https://dev.vk.com/ru/method/wall.getComments)\n",
        "- [Документация API wall.get](https://dev.vk.com/ru/method/wall.get)\n",
        "\n",
        "Код основан на документации ВКонтакте"
      ],
      "metadata": {
        "id": "GSbiBJu4bt3y"
      }
    },
    {
      "cell_type": "code",
      "execution_count": 3,
      "metadata": {
        "id": "n2SKYPMwbDSV"
      },
      "outputs": [],
      "source": [
        "import requests\n",
        "import time\n",
        "from datetime import datetime, timedelta\n",
        "import pandas as pd"
      ]
    },
    {
      "cell_type": "code",
      "source": [
        "ACCESS_TOKEN = 'bb01e286bb01e286bb01e2860ab81977f2bbb01bb01e286dd647517a5bcfa4df0bccfcd'\n",
        "VERSION = '5.131'"
      ],
      "metadata": {
        "id": "FhR4QqPpbJ57"
      },
      "execution_count": 4,
      "outputs": []
    },
    {
      "cell_type": "code",
      "source": [
        "def get_posts(owner_id, count=100, offset=0, start_time=None, end_time=None):\n",
        "    url = r'https://api.vk.com/method/wall.get'\n",
        "    params = {\n",
        "        'owner_id': owner_id,\n",
        "        'count': count,\n",
        "        'offset': offset,\n",
        "        'access_token': ACCESS_TOKEN,\n",
        "        'v': VERSION,\n",
        "        'start_time': start_time,\n",
        "        'end_time': end_time\n",
        "    }\n",
        "    response = requests.get(url, params=params)\n",
        "    return response.json()\n",
        "\n",
        "def get_comments(owner_id, post_id, count=100, offset=0):\n",
        "    url = r'https://api.vk.com/method/wall.getComments'\n",
        "    params = {\n",
        "        'owner_id': owner_id,\n",
        "        'post_id': post_id,\n",
        "        'count': count,\n",
        "        'offset': offset,\n",
        "        'access_token': ACCESS_TOKEN,\n",
        "        'v': VERSION\n",
        "    }\n",
        "    response = requests.get(url, params=params)\n",
        "    return response.json()\n",
        "\n",
        "end_time = int(time.time())\n",
        "start_time = int((datetime.now() - timedelta(days=30)).timestamp())\n",
        "\n",
        "owner_ids = [-44515433, -10821454]\n",
        "all_posts = []\n",
        "\n",
        "for owner_id in owner_ids:\n",
        "    offset = 0\n",
        "    while True:\n",
        "        posts = get_posts(owner_id, offset=offset, start_time=start_time, end_time=end_time)\n",
        "        if 'response' in posts and len(posts['response']['items']) > 0:\n",
        "            all_posts.extend(posts['response']['items'])\n",
        "            offset += 100\n",
        "        else:\n",
        "            break\n",
        "\n",
        "all_comments = []\n",
        "\n",
        "for post in all_posts:\n",
        "    post_id = post['id']\n",
        "    owner_id = post['owner_id']\n",
        "    offset = 0\n",
        "    while True:\n",
        "        comments = get_comments(owner_id, post_id, offset=offset)\n",
        "        if 'response' in comments and len(comments['response']['items']) > 0:\n",
        "            all_comments.extend(comments['response']['items'])\n",
        "            offset += 100\n",
        "        else:\n",
        "            break\n",
        "\n",
        "df_comments = pd.DataFrame(all_comments)"
      ],
      "metadata": {
        "id": "w97YRHAbeJ6b"
      },
      "execution_count": null,
      "outputs": []
    },
    {
      "cell_type": "code",
      "source": [
        "df_comments"
      ],
      "metadata": {
        "id": "sWo6MENifjHx"
      },
      "execution_count": null,
      "outputs": []
    },
    {
      "cell_type": "markdown",
      "source": [
        "## Предобработка данных\n",
        "\n",
        "Ссылки на источники:\n",
        "- [Текст ссылки](https://)\n",
        "- [Текст ссылки](https://)"
      ],
      "metadata": {
        "id": "zPQqUx60gUDS"
      }
    },
    {
      "cell_type": "code",
      "source": [
        "%pip install pymorphy2"
      ],
      "metadata": {
        "id": "GK8sAVYOhCve"
      },
      "execution_count": null,
      "outputs": []
    },
    {
      "cell_type": "code",
      "source": [
        "from nltk.corpus import stopwords\n",
        "import pymorphy2\n",
        "import nltk\n",
        "import re"
      ],
      "metadata": {
        "id": "qm1-tWgsf7mS"
      },
      "execution_count": null,
      "outputs": []
    },
    {
      "cell_type": "code",
      "source": [
        "nltk.download('stopwords')\n",
        "russian_stopwords = stopwords.words(\"russian\")\n",
        "morph = pymorphy2.MorphAnalyzer()"
      ],
      "metadata": {
        "id": "Lshyv7mQg8pB"
      },
      "execution_count": null,
      "outputs": []
    },
    {
      "cell_type": "code",
      "source": [
        "def preprocess_text(text):\n",
        "    text = re.sub(r'\\[.*?\\]', '', text)\n",
        "    text = re.sub(r'http\\S+|www\\S+|https\\S+', '', text, flags=re.MULTILINE)\n",
        "    text = re.sub(r'\\@\\w+|\\#','', text)\n",
        "    text = re.sub(r'\\n', ' ', text)\n",
        "    text = re.sub(r'[^\\w\\s]', '', text)\n",
        "    text = text.lower()\n",
        "    # Токенизация и удаление стоп-слов\n",
        "    tokens = text.split()\n",
        "    tokens = [token for token in tokens if token not in russian_stopwords]\n",
        "    # Приведение к начальной форме\n",
        "    tokens = [morph.parse(token)[0].normal_form for token in tokens]\n",
        "    return tokens\n",
        "\n",
        "df_comments['cleaned_text'] = df_comments['text'].apply(preprocess_text)"
      ],
      "metadata": {
        "id": "VpfF7oxphGuG"
      },
      "execution_count": null,
      "outputs": []
    },
    {
      "cell_type": "markdown",
      "source": [
        "## Извлечение ключевых слов и продуктов\n",
        "\n",
        "Ссылки на источники:\n",
        "- [Текст ссылки](https://)\n",
        "- [Текст ссылки](https://)"
      ],
      "metadata": {
        "id": "C7Y1nRmegduY"
      }
    },
    {
      "cell_type": "code",
      "source": [
        "cosmetic_products = ['крем', 'шампунь', 'помада', 'маска', 'лосьон', 'тонер']\n",
        "\n",
        "def extract_products(tokens):\n",
        "    return [token for token in tokens if token in cosmetic_products]\n",
        "\n",
        "df_comments['products'] = df_comments['cleaned_text'].apply(extract_products)"
      ],
      "metadata": {
        "id": "U06yihVzgiem"
      },
      "execution_count": null,
      "outputs": []
    },
    {
      "cell_type": "markdown",
      "source": [
        "## Анализ частоты упоминаний\n",
        "\n",
        "Ссылки на источники:\n",
        "- [Текст ссылки](https://)\n",
        "- [Текст ссылки](https://)"
      ],
      "metadata": {
        "id": "N0gQw5lYglq3"
      }
    },
    {
      "cell_type": "code",
      "source": [
        "from collections import Counter"
      ],
      "metadata": {
        "id": "_ZZjDrdUhURs"
      },
      "execution_count": null,
      "outputs": []
    },
    {
      "cell_type": "code",
      "source": [
        "all_products = [product for sublist in df_comments['products'] for product in sublist]\n",
        "product_counts = Counter(all_products)\n",
        "product_counts_df = pd.DataFrame(product_counts.items(), columns=['Product', 'Count'])"
      ],
      "metadata": {
        "id": "mzfXedwzgtgo"
      },
      "execution_count": null,
      "outputs": []
    },
    {
      "cell_type": "markdown",
      "source": [
        "## Анализ тональности комментариев\n",
        "\n",
        "Ссылки на источники:\n",
        "- [Текст ссылки](https://)\n",
        "- [Текст ссылки](https://)"
      ],
      "metadata": {
        "id": "sA_PBOGWhmq3"
      }
    },
    {
      "cell_type": "code",
      "source": [
        "%pip install dostoevsky"
      ],
      "metadata": {
        "id": "b3mE8CD1hsoy"
      },
      "execution_count": null,
      "outputs": []
    },
    {
      "cell_type": "code",
      "source": [
        "%%python3 -m dostoevsky download fasttext-social-network-model"
      ],
      "metadata": {
        "id": "wQ19y3tKhyuw"
      },
      "execution_count": null,
      "outputs": []
    },
    {
      "cell_type": "code",
      "source": [
        "from dostoevsky.tokenization import RegexTokenizer\n",
        "from dostoevsky.models import FastTextSocialNetworkModel"
      ],
      "metadata": {
        "id": "Dhaz6Ipbh0-r"
      },
      "execution_count": null,
      "outputs": []
    },
    {
      "cell_type": "code",
      "source": [
        "tokenizer = RegexTokenizer()\n",
        "model = FastTextSocialNetworkModel(tokenizer)"
      ],
      "metadata": {
        "id": "WCodMlbZh15_"
      },
      "execution_count": null,
      "outputs": []
    },
    {
      "cell_type": "markdown",
      "source": [
        "## Визуализация результатов\n",
        "\n",
        "Ссылки на источники:\n",
        "- [Текст ссылки](https://)\n",
        "- [Текст ссылки](https://)"
      ],
      "metadata": {
        "id": "t9KDhMvigsa5"
      }
    },
    {
      "cell_type": "code",
      "source": [
        "import matplotlib.pyplot as plt"
      ],
      "metadata": {
        "id": "Umk3ogPyhWqD"
      },
      "execution_count": null,
      "outputs": []
    },
    {
      "cell_type": "code",
      "source": [
        "plt.figure(figsize=(10, 6))\n",
        "product_counts_df = product_counts_df.sort_values(by='Count', ascending=False)\n",
        "plt.bar(product_counts_df['Product'], product_counts_df['Count'])\n",
        "plt.xlabel('Products')\n",
        "plt.ylabel('Count')\n",
        "plt.title('Frequency of Cosmetic Products Mentions')\n",
        "plt.xticks(rotation=45)\n",
        "plt.show()"
      ],
      "metadata": {
        "id": "U_akvxlbhSh3"
      },
      "execution_count": null,
      "outputs": []
    }
  ]
}