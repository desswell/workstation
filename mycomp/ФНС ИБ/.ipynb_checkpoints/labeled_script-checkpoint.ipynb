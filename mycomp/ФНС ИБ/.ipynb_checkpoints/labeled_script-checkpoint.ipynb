{
 "cells": [
  {
   "cell_type": "code",
   "execution_count": 55,
   "metadata": {},
   "outputs": [],
   "source": [
    "import pandas as pd\n",
    "import numpy as np\n",
    "import openpyxl\n",
    "import glob\n",
    "from openpyxl.styles import PatternFill\n",
    "from tqdm.auto import tqdm"
   ]
  },
  {
   "cell_type": "code",
   "execution_count": 56,
   "metadata": {},
   "outputs": [
    {
     "data": {
      "application/vnd.jupyter.widget-view+json": {
       "model_id": "e128b4348b3e41099772c1cf53181164",
       "version_major": 2,
       "version_minor": 0
      },
      "text/plain": [
       "  0%|          | 0/2 [00:00<?, ?it/s]"
      ]
     },
     "metadata": {},
     "output_type": "display_data"
    },
    {
     "name": "stdout",
     "output_type": "stream",
     "text": [
      "DSS2_0101-0502_changed/u_ex240112_x.log proceesing...\n"
     ]
    }
   ],
   "source": [
    "changed_path = \"DSS2_0101-0502_changed/\"\n",
    "labeled_path = \"labeled_data_excel/\"\n",
    "\n",
    "def highlight_anomaly(s):\n",
    "    '''\n",
    "    Highlight cells with anomalies\n",
    "    '''\n",
    "    threshold = s \n",
    "    return ['background-color: gray' if v else '' for v in threshold]\n",
    "\n",
    "\n",
    "files = glob.glob(changed_path+\"*\")\n",
    "for file in tqdm(files[:2]):\n",
    "    print(f\"{file} proceesing...\")\n",
    "    try:\n",
    "        df = pd.read_csv(file, sep=\" \")\n",
    "        df[\"label\"] = 0\n",
    "\n",
    "        index_array = df[\n",
    "            (df[\"time-taken\"] > 1000) & \n",
    "            (df[\"cs-uri-stem\"] == \"/STS/oauth/token\")\n",
    "        ].index\n",
    "\n",
    "        df.loc[index_array, \"label\"] = 1\n",
    "        excel_name = file.split('/')[1].split('.')[0]\n",
    "\n",
    "        df.style.apply(highlight_anomaly, subset=['label']).to_excel(labeled_path+f\"{excel_name}.xlsx\", index=False)\n",
    "        print(f\"{excel_name}.xlsx processed successfully\")\n",
    "    except Exception as e:\n",
    "        print(f\"{excel_name} failed: {e}\")\n"
   ]
  },
  {
   "cell_type": "markdown",
   "metadata": {},
   "source": [
    "Аномалии:\n",
    "1) URI is /STS/oauth/token, в которых time-taken > 1000 мс\n",
    "\n",
    "**Не смотрим**\n",
    "\n",
    "2) time-taken = 0ms в URI is /STS/notifications.\n",
    "\n",
    "3)  в URI is /SignServer/rest/api/documents сильно отличается по cs-username.\n",
    "\n",
    "4) URI is SignServer/rest/api/requests - он пустой\n",
    "\n"
   ]
  }
 ],
 "metadata": {
  "kernelspec": {
   "display_name": ".venv",
   "language": "python",
   "name": "python3"
  },
  "language_info": {
   "codemirror_mode": {
    "name": "ipython",
    "version": 3
   },
   "file_extension": ".py",
   "mimetype": "text/x-python",
   "name": "python",
   "nbconvert_exporter": "python",
   "pygments_lexer": "ipython3",
   "version": "3.11.9"
  }
 },
 "nbformat": 4,
 "nbformat_minor": 2
}
