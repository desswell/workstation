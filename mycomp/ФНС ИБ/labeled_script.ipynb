{
 "cells": [
  {
   "cell_type": "code",
   "execution_count": 5,
   "metadata": {},
   "outputs": [
    {
     "name": "stdout",
     "output_type": "stream",
     "text": [
      "Collecting nodejs\n",
      "  Downloading nodejs-0.1.1.tar.gz (2.3 kB)\n",
      "  Preparing metadata (setup.py): started\n",
      "  Preparing metadata (setup.py): finished with status 'done'\n",
      "Collecting optional-django==0.1.0 (from nodejs)\n",
      "  Downloading optional-django-0.1.0.tar.gz (9.5 kB)\n",
      "  Preparing metadata (setup.py): started\n",
      "  Preparing metadata (setup.py): finished with status 'done'\n",
      "Building wheels for collected packages: nodejs, optional-django\n",
      "  Building wheel for nodejs (setup.py): started\n",
      "  Building wheel for nodejs (setup.py): finished with status 'done'\n",
      "  Created wheel for nodejs: filename=nodejs-0.1.1-py3-none-any.whl size=3475 sha256=a6fb22a9e8072cc72a7ea447befc06ec4eda8e9c1ee30a67347ae9a9b7c03ac6\n",
      "  Stored in directory: c:\\users\\desswell\\appdata\\local\\pip\\cache\\wheels\\b9\\6d\\c6\\ee0ebcf81e630864caeeedb3842682f568ad265ec5e69382b9\n",
      "  Building wheel for optional-django (setup.py): started\n",
      "  Building wheel for optional-django (setup.py): finished with status 'done'\n",
      "  Created wheel for optional-django: filename=optional_django-0.1.0-py3-none-any.whl size=9960 sha256=3795308006b6a96936af294a2a3f41fcfc4ce50d1f4e81796b2175cd06a3eaf6\n",
      "  Stored in directory: c:\\users\\desswell\\appdata\\local\\pip\\cache\\wheels\\24\\47\\0a\\6bdc915164c9c29e3a7d93ea1ef469c1079e2f427bce820d43\n",
      "Successfully built nodejs optional-django\n",
      "Installing collected packages: optional-django, nodejs\n",
      "Successfully installed nodejs-0.1.1 optional-django-0.1.0\n",
      "Note: you may need to restart the kernel to use updated packages.\n"
     ]
    },
    {
     "name": "stderr",
     "output_type": "stream",
     "text": [
      "\n",
      "[notice] A new release of pip is available: 23.2.1 -> 24.0\n",
      "[notice] To update, run: python.exe -m pip install --upgrade pip\n"
     ]
    }
   ],
   "source": [
    "%pip install nodejs"
   ]
  },
  {
   "cell_type": "code",
   "execution_count": 2,
   "metadata": {},
   "outputs": [],
   "source": [
    "import pandas as pd\n",
    "import numpy as np\n",
    "import openpyxl\n",
    "import glob\n",
    "from openpyxl.styles import PatternFill\n",
    "from tqdm.auto import tqdm"
   ]
  },
  {
   "cell_type": "code",
   "execution_count": 7,
   "metadata": {},
   "outputs": [
    {
     "data": {
      "application/vnd.jupyter.widget-view+json": {
       "model_id": "00c020b038874c6abeb61c3a696b98af",
       "version_major": 2,
       "version_minor": 0
      },
      "text/plain": [
       "  0%|          | 0/34 [00:00<?, ?it/s]"
      ]
     },
     "metadata": {},
     "output_type": "display_data"
    },
    {
     "name": "stdout",
     "output_type": "stream",
     "text": [
      "DSS2_0101-0502_changed\\u_ex240103_x.log proceesing...\n",
      "u_ex240103_x.xlsx processed successfully\n",
      "DSS2_0101-0502_changed\\u_ex240104_x.log proceesing...\n",
      "u_ex240104_x.xlsx processed successfully\n",
      "DSS2_0101-0502_changed\\u_ex240105_x.log proceesing...\n",
      "u_ex240105_x.xlsx processed successfully\n",
      "DSS2_0101-0502_changed\\u_ex240106_x.log proceesing...\n",
      "u_ex240106_x.xlsx processed successfully\n",
      "DSS2_0101-0502_changed\\u_ex240107_x.log proceesing...\n",
      "u_ex240107_x.xlsx processed successfully\n",
      "DSS2_0101-0502_changed\\u_ex240108_x.log proceesing...\n",
      "u_ex240108_x.xlsx processed successfully\n",
      "DSS2_0101-0502_changed\\u_ex240109_x.log proceesing...\n",
      "u_ex240109_x failed: This sheet is too large! Your sheet size is: 1246631, 18 Max sheet size is: 1048576, 16384\n",
      "DSS2_0101-0502_changed\\u_ex240110_x.log proceesing...\n",
      "u_ex240110_x failed: This sheet is too large! Your sheet size is: 1397235, 18 Max sheet size is: 1048576, 16384\n",
      "DSS2_0101-0502_changed\\u_ex240111_x.log proceesing...\n",
      "u_ex240111_x failed: This sheet is too large! Your sheet size is: 1127402, 18 Max sheet size is: 1048576, 16384\n",
      "DSS2_0101-0502_changed\\u_ex240112_x.log proceesing...\n",
      "u_ex240112_x.xlsx processed successfully\n",
      "DSS2_0101-0502_changed\\u_ex240113_x.log proceesing...\n",
      "u_ex240113_x.xlsx processed successfully\n",
      "DSS2_0101-0502_changed\\u_ex240114_x.log proceesing...\n",
      "u_ex240114_x.xlsx processed successfully\n",
      "DSS2_0101-0502_changed\\u_ex240115_x.log proceesing...\n",
      "u_ex240115_x failed: This sheet is too large! Your sheet size is: 1068833, 18 Max sheet size is: 1048576, 16384\n",
      "DSS2_0101-0502_changed\\u_ex240116_x.log proceesing...\n",
      "u_ex240116_x failed: This sheet is too large! Your sheet size is: 1720806, 18 Max sheet size is: 1048576, 16384\n",
      "DSS2_0101-0502_changed\\u_ex240117_x.log proceesing...\n",
      "u_ex240117_x failed: This sheet is too large! Your sheet size is: 1563033, 18 Max sheet size is: 1048576, 16384\n",
      "DSS2_0101-0502_changed\\u_ex240118_x.log proceesing...\n",
      "u_ex240118_x failed: This sheet is too large! Your sheet size is: 1885789, 18 Max sheet size is: 1048576, 16384\n",
      "DSS2_0101-0502_changed\\u_ex240119_x.log proceesing...\n",
      "u_ex240119_x failed: This sheet is too large! Your sheet size is: 1768227, 18 Max sheet size is: 1048576, 16384\n",
      "DSS2_0101-0502_changed\\u_ex240120_x.log proceesing...\n",
      "u_ex240120_x.xlsx processed successfully\n",
      "DSS2_0101-0502_changed\\u_ex240121_x.log proceesing...\n",
      "u_ex240121_x failed: This sheet is too large! Your sheet size is: 1056771, 18 Max sheet size is: 1048576, 16384\n",
      "DSS2_0101-0502_changed\\u_ex240122_x.log proceesing...\n",
      "u_ex240122_x failed: This sheet is too large! Your sheet size is: 1377440, 18 Max sheet size is: 1048576, 16384\n",
      "DSS2_0101-0502_changed\\u_ex240123_x.log proceesing...\n",
      "u_ex240123_x failed: This sheet is too large! Your sheet size is: 2084024, 18 Max sheet size is: 1048576, 16384\n",
      "DSS2_0101-0502_changed\\u_ex240124_x.log proceesing...\n",
      "u_ex240124_x failed: This sheet is too large! Your sheet size is: 1980786, 18 Max sheet size is: 1048576, 16384\n",
      "DSS2_0101-0502_changed\\u_ex240125_x.log proceesing...\n",
      "u_ex240125_x failed: This sheet is too large! Your sheet size is: 1127208, 18 Max sheet size is: 1048576, 16384\n",
      "DSS2_0101-0502_changed\\u_ex240126_x.log proceesing...\n",
      "u_ex240126_x failed: This sheet is too large! Your sheet size is: 1690374, 18 Max sheet size is: 1048576, 16384\n",
      "DSS2_0101-0502_changed\\u_ex240127_x.log proceesing...\n",
      "u_ex240127_x failed: This sheet is too large! Your sheet size is: 1491950, 18 Max sheet size is: 1048576, 16384\n",
      "DSS2_0101-0502_changed\\u_ex240128_x.log proceesing...\n",
      "u_ex240128_x failed: This sheet is too large! Your sheet size is: 1700155, 18 Max sheet size is: 1048576, 16384\n",
      "DSS2_0101-0502_changed\\u_ex240129_x.log proceesing...\n",
      "u_ex240129_x failed: This sheet is too large! Your sheet size is: 2818790, 18 Max sheet size is: 1048576, 16384\n",
      "DSS2_0101-0502_changed\\u_ex240130_x.log proceesing...\n",
      "u_ex240130_x failed: This sheet is too large! Your sheet size is: 1120691, 18 Max sheet size is: 1048576, 16384\n",
      "DSS2_0101-0502_changed\\u_ex240131_x.log proceesing...\n",
      "u_ex240131_x failed: This sheet is too large! Your sheet size is: 1919619, 18 Max sheet size is: 1048576, 16384\n",
      "DSS2_0101-0502_changed\\u_ex240201_x.log proceesing...\n",
      "u_ex240201_x failed: This sheet is too large! Your sheet size is: 1866376, 18 Max sheet size is: 1048576, 16384\n",
      "DSS2_0101-0502_changed\\u_ex240202_x.log proceesing...\n",
      "u_ex240202_x failed: This sheet is too large! Your sheet size is: 2031822, 18 Max sheet size is: 1048576, 16384\n",
      "DSS2_0101-0502_changed\\u_ex240203_x.log proceesing...\n",
      "u_ex240203_x failed: This sheet is too large! Your sheet size is: 1121308, 18 Max sheet size is: 1048576, 16384\n",
      "DSS2_0101-0502_changed\\u_ex240204_x.log proceesing...\n",
      "u_ex240204_x failed: This sheet is too large! Your sheet size is: 1241285, 18 Max sheet size is: 1048576, 16384\n",
      "DSS2_0101-0502_changed\\u_ex240205_x.log proceesing...\n",
      "u_ex240205_x.xlsx processed successfully\n"
     ]
    }
   ],
   "source": [
    "changed_path = \"DSS2_0101-0502_changed/\"\n",
    "labeled_path = \"labeled_data_excel/\"\n",
    "\n",
    "def highlight_anomaly(s):\n",
    "    '''\n",
    "    Highlight cells with anomalies\n",
    "    '''\n",
    "    threshold = s \n",
    "    return ['background-color: gray' if v else '' for v in threshold]\n",
    "\n",
    "\n",
    "files = glob.glob(changed_path+\"*\")\n",
    "for file in tqdm(files[2:]):\n",
    "    print(f\"{file} proceesing...\")\n",
    "    try:\n",
    "        df = pd.read_csv(file, sep=\" \")\n",
    "        df[\"label\"] = 0\n",
    "\n",
    "        index_array = df[\n",
    "            (df[\"time-taken\"] > 1000) & \n",
    "            (df[\"cs-uri-stem\"] == \"/STS/oauth/token\")\n",
    "        ].index\n",
    "\n",
    "        df.loc[index_array, \"label\"] = 1\n",
    "\n",
    "        excel_name = file.split(\"\\\\\")[1].split('.')[0]\n",
    "\n",
    "        df.style.apply(highlight_anomaly, subset=['label']).to_excel(labeled_path+f\"{excel_name}.xlsx\", index=False)\n",
    "        print(f\"{excel_name}.xlsx processed successfully\")\n",
    "    except Exception as e:\n",
    "        print(f\"{excel_name} failed: {e}\")\n"
   ]
  },
  {
   "cell_type": "markdown",
   "metadata": {},
   "source": [
    "Аномалии:\n",
    "1) URI is /STS/oauth/token, в которых time-taken > 1000 мс\n",
    "\n",
    "**Не смотрим**\n",
    "\n",
    "2) time-taken = 0ms в URI is /STS/notifications.\n",
    "\n",
    "3)  в URI is /SignServer/rest/api/documents сильно отличается по cs-username.\n",
    "\n",
    "4) URI is SignServer/rest/api/requests - он пустой\n",
    "\n"
   ]
  }
 ],
 "metadata": {
  "kernelspec": {
   "display_name": "Python 3 (ipykernel)",
   "language": "python",
   "name": "python3"
  },
  "language_info": {
   "codemirror_mode": {
    "name": "ipython",
    "version": 3
   },
   "file_extension": ".py",
   "mimetype": "text/x-python",
   "name": "python",
   "nbconvert_exporter": "python",
   "pygments_lexer": "ipython3",
   "version": "3.10.6"
  }
 },
 "nbformat": 4,
 "nbformat_minor": 4
}
