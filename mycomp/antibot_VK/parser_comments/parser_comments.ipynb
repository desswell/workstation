{
 "cells": [
  {
   "cell_type": "code",
   "execution_count": 1,
   "id": "5f7f838e-fe8f-4852-97f3-139eefcdb2f7",
   "metadata": {},
   "outputs": [],
   "source": [
    "import pandas as pd\n",
    "import requests\n",
    "from datetime import datetime\n",
    "from tqdm import tqdm\n",
    "import time"
   ]
  },
  {
   "cell_type": "code",
   "execution_count": 2,
   "id": "9104db2f-ba3d-4df5-8ba7-8e9272bb67c1",
   "metadata": {},
   "outputs": [],
   "source": [
    "access_token = 'bb01e286bb01e286bb01e2860ab81977f2bbb01bb01e286dd647517a5bcfa4df0bccfcd'\n",
    "version = '5.131'"
   ]
  },
  {
   "cell_type": "code",
   "execution_count": 3,
   "id": "6e6e93f9-c19d-4953-b725-a228990503f3",
   "metadata": {},
   "outputs": [],
   "source": [
    "def get_posts_with_keywords(owner_id, keywords, yaer_thread, month_thread, day_thread):\n",
    "    posts = []\n",
    "    offset = 0\n",
    "    count = 100\n",
    "    pbar = tqdm(desc=\"Хаваю посты\", unit=\"post\")\n",
    "    data_thread = datetime(yaer_thread, month_thread, day_thread).timestamp()\n",
    "\n",
    "    while True:\n",
    "        url = 'https://api.vk.com/method/wall.get'\n",
    "        params = {\n",
    "            'access_token': access_token,\n",
    "            'v': version,\n",
    "            'owner_id': owner_id,\n",
    "            'count': count,\n",
    "            'offset': offset\n",
    "        }\n",
    "        response = requests.get(url, params=params).json()\n",
    "\n",
    "        if 'response' in response:\n",
    "            items = response['response']['items']\n",
    "            items = [item for item in items if item['date'] >= data_thread]\n",
    "            if not items:\n",
    "                break\n",
    "            posts.extend(items)\n",
    "            pbar.update(len(items))\n",
    "            if len(items) < count:\n",
    "                break\n",
    "            offset += count\n",
    "        else:\n",
    "            print(\"Error:\", response)\n",
    "            break\n",
    "\n",
    "    pbar.close()\n",
    "    filtered_posts = [post for post in posts if any(keyword.lower() in post['text'].lower() for keyword in keywords)]\n",
    "    return filtered_posts\n",
    "\n",
    "\n",
    "def get_all_comments(owner_id, post_id):\n",
    "    comments = []\n",
    "    offset = 0\n",
    "    count = 100\n",
    "\n",
    "    while True:\n",
    "        url = 'https://api.vk.com/method/wall.getComments'\n",
    "        params = {\n",
    "            'access_token': access_token,\n",
    "            'v': version,\n",
    "            'owner_id': owner_id,\n",
    "            'post_id': post_id,\n",
    "            'extended': 1,\n",
    "            'fields': 'from_id, date, text',\n",
    "            'count': count,\n",
    "            'offset': offset,\n",
    "            'thread_items_count': 10\n",
    "        }\n",
    "        response = requests.get(url, params=params).json()\n",
    "        time.sleep(0.34)\n",
    "        if 'response' in response:\n",
    "            items = response['response']['items']\n",
    "            comments.extend(items)\n",
    "            if len(items) < count:\n",
    "                break\n",
    "            offset += count\n",
    "        else:\n",
    "            print(\"Error:\", response)\n",
    "            break\n",
    "\n",
    "    all_comments = []\n",
    "    for com in comments:\n",
    "        all_comments.append((com['text'], datetime.fromtimestamp(com['date']), com['from_id'], owner_id))\n",
    "        if 'thread' in com and com['thread']['count'] > 0:\n",
    "            thread_comments = com['thread']['items']\n",
    "            for thread_com in thread_comments:\n",
    "                all_comments.append((thread_com['text'], datetime.fromtimestamp(thread_com['date']), thread_com['from_id'], owner_id))\n",
    "\n",
    "    return all_comments\n"
   ]
  },
  {
   "cell_type": "code",
   "execution_count": 4,
   "id": "6bd9fd7b-b880-43a4-9aa6-3f2f3de619c7",
   "metadata": {},
   "outputs": [],
   "source": [
    "year_now = datetime.now().year\n",
    "yaer_thread = year_now\n",
    "month_now = datetime.now().month\n",
    "month = month_now\n",
    "day = datetime.now().day - 1\n",
    "owner_id = -40316705\n",
    "keywords = ['']"
   ]
  },
  {
   "cell_type": "code",
   "execution_count": 5,
   "id": "4c89b9ba-f1a5-4e61-a22e-670ce4ef8072",
   "metadata": {},
   "outputs": [
    {
     "name": "stderr",
     "output_type": "stream",
     "text": [
      "Хаваю посты: 99post [00:00, 127.95post/s]\n"
     ]
    }
   ],
   "source": [
    "posts = get_posts_with_keywords(owner_id, keywords, yaer_thread, month, day)"
   ]
  },
  {
   "cell_type": "code",
   "execution_count": null,
   "id": "3fc20147-119c-47f0-aeb6-724edc0b90e6",
   "metadata": {},
   "outputs": [
    {
     "name": "stderr",
     "output_type": "stream",
     "text": [
      "Шарю комментарии по постам...:  44%|██████████████████████████████████████████████████████████████████████████████████████████████████████████▏                                                                                                                                    | 44/99 [00:24<00:30,  1.80it/s]"
     ]
    }
   ],
   "source": [
    "df_comments = []\n",
    "for post in tqdm(posts, desc=\"Шарю комментарии по постам...\"):\n",
    "    post_id = post['id']\n",
    "    comments = get_all_comments(owner_id, post_id)\n",
    "    df_comments.extend(comments)\n",
    "\n",
    "df = pd.DataFrame(df_comments, columns=[\"Comment\", \"Date\", 'User_id', 'Public_id'])"
   ]
  },
  {
   "cell_type": "code",
   "execution_count": null,
   "id": "99d37ffa-44b7-433b-a2fe-431693168357",
   "metadata": {},
   "outputs": [],
   "source": [
    "print(df.head(10))"
   ]
  }
 ],
 "metadata": {
  "kernelspec": {
   "display_name": "Python 3 (ipykernel)",
   "language": "python",
   "name": "python3"
  },
  "language_info": {
   "codemirror_mode": {
    "name": "ipython",
    "version": 3
   },
   "file_extension": ".py",
   "mimetype": "text/x-python",
   "name": "python",
   "nbconvert_exporter": "python",
   "pygments_lexer": "ipython3",
   "version": "3.10.6"
  }
 },
 "nbformat": 4,
 "nbformat_minor": 5
}
