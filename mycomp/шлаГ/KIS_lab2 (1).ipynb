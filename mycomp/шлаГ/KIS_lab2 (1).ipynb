{
 "cells": [
  {
   "cell_type": "markdown",
   "id": "87fefa8a-beea-4827-ac49-806933db26aa",
   "metadata": {},
   "source": [
    "**Вариант 13**\n",
    "**Овчинников Данила ИУ5-82Б**"
   ]
  },
  {
   "cell_type": "markdown",
   "id": "e646d063",
   "metadata": {},
   "source": [
    "# Лабораторная работа 2. Методы анализа параметров компонентов моделей функционирования КИС"
   ]
  },
  {
   "cell_type": "markdown",
   "id": "336e7746-cdf6-4b89-8702-a8d1bf0cf7ba",
   "metadata": {},
   "source": [
    "## Задание 1.\n",
    "\n",
    "Заданы три независимые целочисленные неотрицательные случайные величины $X_1, X_2, X_3$, необходимо найти математическое ожидание, дисперсию, среднее квадратическое отклонение и коэффициент вариации случайной величины $X_1+X_2+X_3$ численно и теоретически (из определения и с использованием производящей функции).\n",
    "В таблице ниже по вариантам представлены соответствия значений случайной величины и их вероятности. "
   ]
  },
  {
   "cell_type": "code",
   "execution_count": 21,
   "id": "02188160-4285-4b58-adeb-e991ac17b34e",
   "metadata": {},
   "outputs": [],
   "source": [
    "Variant<-13\n",
    "set.seed(Variant) \n",
    "X1<-sample(c(1:20),5)\n",
    "X2<-sample(c(3:100),5)\n",
    "X3<-sample(c(0:40),5)\n",
    "pp1<-runif(5)\n",
    "p1<-pp1/sum(pp1)\n",
    "pp2<-runif(5)\n",
    "p2<-pp2/sum(pp2)\n",
    "pp3<-runif(5)\n",
    "p3<-pp3/sum(pp3)"
   ]
  },
  {
   "cell_type": "code",
   "execution_count": 22,
   "id": "586ec80f-58c8-4a6f-8b54-5b9ad8723fec",
   "metadata": {},
   "outputs": [
    {
     "data": {
      "text/html": [
       "<table class=\"dataframe\">\n",
       "<caption>A data.frame: 5 × 6</caption>\n",
       "<thead>\n",
       "\t<tr><th scope=col>X1</th><th scope=col>X2</th><th scope=col>X3</th><th scope=col>p1</th><th scope=col>p2</th><th scope=col>p3</th></tr>\n",
       "\t<tr><th scope=col>&lt;int&gt;</th><th scope=col>&lt;int&gt;</th><th scope=col>&lt;int&gt;</th><th scope=col>&lt;dbl&gt;</th><th scope=col>&lt;dbl&gt;</th><th scope=col>&lt;dbl&gt;</th></tr>\n",
       "</thead>\n",
       "<tbody>\n",
       "\t<tr><td> 3</td><td>50</td><td>16</td><td>0.30560821</td><td>0.1217534</td><td>0.41209694</td></tr>\n",
       "\t<tr><td> 5</td><td>24</td><td>14</td><td>0.05020882</td><td>0.2337225</td><td>0.27519884</td></tr>\n",
       "\t<tr><td>10</td><td> 6</td><td>22</td><td>0.35879729</td><td>0.1560960</td><td>0.05466657</td></tr>\n",
       "\t<tr><td>13</td><td>66</td><td> 4</td><td>0.01835962</td><td>0.1494926</td><td>0.23155858</td></tr>\n",
       "\t<tr><td> 6</td><td>95</td><td>11</td><td>0.26702606</td><td>0.3389355</td><td>0.02647908</td></tr>\n",
       "</tbody>\n",
       "</table>\n"
      ],
      "text/latex": [
       "A data.frame: 5 × 6\n",
       "\\begin{tabular}{llllll}\n",
       " X1 & X2 & X3 & p1 & p2 & p3\\\\\n",
       " <int> & <int> & <int> & <dbl> & <dbl> & <dbl>\\\\\n",
       "\\hline\n",
       "\t  3 & 50 & 16 & 0.30560821 & 0.1217534 & 0.41209694\\\\\n",
       "\t  5 & 24 & 14 & 0.05020882 & 0.2337225 & 0.27519884\\\\\n",
       "\t 10 &  6 & 22 & 0.35879729 & 0.1560960 & 0.05466657\\\\\n",
       "\t 13 & 66 &  4 & 0.01835962 & 0.1494926 & 0.23155858\\\\\n",
       "\t  6 & 95 & 11 & 0.26702606 & 0.3389355 & 0.02647908\\\\\n",
       "\\end{tabular}\n"
      ],
      "text/markdown": [
       "\n",
       "A data.frame: 5 × 6\n",
       "\n",
       "| X1 &lt;int&gt; | X2 &lt;int&gt; | X3 &lt;int&gt; | p1 &lt;dbl&gt; | p2 &lt;dbl&gt; | p3 &lt;dbl&gt; |\n",
       "|---|---|---|---|---|---|\n",
       "|  3 | 50 | 16 | 0.30560821 | 0.1217534 | 0.41209694 |\n",
       "|  5 | 24 | 14 | 0.05020882 | 0.2337225 | 0.27519884 |\n",
       "| 10 |  6 | 22 | 0.35879729 | 0.1560960 | 0.05466657 |\n",
       "| 13 | 66 |  4 | 0.01835962 | 0.1494926 | 0.23155858 |\n",
       "|  6 | 95 | 11 | 0.26702606 | 0.3389355 | 0.02647908 |\n",
       "\n"
      ],
      "text/plain": [
       "  X1 X2 X3 p1         p2        p3        \n",
       "1  3 50 16 0.30560821 0.1217534 0.41209694\n",
       "2  5 24 14 0.05020882 0.2337225 0.27519884\n",
       "3 10  6 22 0.35879729 0.1560960 0.05466657\n",
       "4 13 66  4 0.01835962 0.1494926 0.23155858\n",
       "5  6 95 11 0.26702606 0.3389355 0.02647908"
      ]
     },
     "metadata": {},
     "output_type": "display_data"
    }
   ],
   "source": [
    "View(data.frame(X1, X2, X3, p1, p2, p3))"
   ]
  },
  {
   "cell_type": "markdown",
   "id": "6190bbc0",
   "metadata": {},
   "source": [
    "#### Теоретически из определения и с использованием производящей функции\n",
    "Производящая функция\n",
    "$$P_{\\zeta}(z)=\\sum_{n=0}^\\infty p_nz^n$$\n",
    "\n",
    "$P_{\\zeta1}(z) = p_{11} \\cdot z^{10} + p_{12} \\cdot z^{13} + p_{13} \\cdot z^{14} + p_{14} \\cdot z^{4} + p_{15} \\cdot z^{12}$\n",
    "\n",
    "$P_{\\zeta2}(z) = p_{21} \\cdot z^{69} + p_{22} \\cdot z^{4} + p_{23} \\cdot z^{68} + p_{24} \\cdot z^{32} + p_{25} \\cdot z^{57}$\n",
    "\n",
    "$P_{\\zeta3}(z) = p_{31} \\cdot z^{2} + p_{32} \\cdot z^{20} + p_{33} \\cdot z^{7} + p_{44} \\cdot z^{21} + p_{45} \\cdot z^{32}$\n",
    "\n",
    "$P_{\\zeta}(z) = P_{\\zeta1+\\zeta2+\\zeta3}(z) = P_{\\zeta1}(z) \\cdot P_{\\zeta2}(z) \\cdot P_{\\zeta3}(z)$\n",
    "\n",
    "<br>\n",
    "\n",
    "$$M(\\zeta)=P'_{\\zeta}(z)|_{z=1}$$\n",
    "\n",
    "$$D(\\zeta)=P''_{\\zeta}(z)|_{z=1}+P'_{\\zeta}(z)|_{z=1}-\\left(P'_{\\zeta}(z)\\right)^2|_{z=1}$$\n",
    "\n",
    "<br>\n",
    "\n",
    "$P_{\\zeta1}(z)' = 10 \\cdot p_{11} \\cdot z^{9} + 13 \\cdot p_{12} \\cdot z^{12} + 14 \\cdot p_{13} \\cdot z^{13} + 4 \\cdot p_{14} \\cdot z^{3} + 12 \\cdot p_{15} \\cdot z^{11}$\n",
    "\n",
    "$P_{\\zeta2}(z)' = 69 \\cdot p_{21} \\cdot z^{68} + 4 \\cdot p_{22} \\cdot z^{3} + 68 \\cdot p_{23} \\cdot z^{67} + 32 \\cdot p_{24} \\cdot z^{31} + 57 \\cdot p_{25} \\cdot z^{56}$\n",
    "\n",
    "$P_{\\zeta3}(z)' = 2 \\cdot p_{31} \\cdot z^{1} + 20 \\cdot p_{32} \\cdot z^{19} + 7 \\cdot p_{33} \\cdot z^{6} + 21 \\cdot p_{44} \\cdot z^{20} + 32 \\cdot p_{45} \\cdot z^{31}$\n",
    "\n",
    "$P_{\\zeta}(z)' = P_{\\zeta1}(z)' \\cdot P_{\\zeta2}(z) \\cdot P_{\\zeta3}(z) + P_{\\zeta1}(z) \\cdot P_{\\zeta2}(z)' \\cdot P_{\\zeta3}(z) + P_{\\zeta1}(z) \\cdot P_{\\zeta2}(z) \\cdot P_{\\zeta3}(z)'  \\quad \\quad ((a \\cdot b \\cdot c)' = a' \\cdot b \\cdot c + a \\cdot b' \\cdot c + a \\cdot b \\cdot c')$"
   ]
  },
  {
   "cell_type": "code",
   "execution_count": 23,
   "id": "1152aac2",
   "metadata": {},
   "outputs": [],
   "source": [
    "#Производящая функция\n",
    "e<-expression(\n",
    "  (p11*z^x11 + p12*z^x12 + p13*z^x13+ p14*z^x14+ p15*z^x15) *\n",
    "  (p21*z^x21 + p22*z^x22 + p23*z^x23+ p24*z^x24+ p25*z^x25) *\n",
    "  (p31*z^x31 + p32*z^x32 + p33*z^x33+ p34*z^x34+ p35*z^x35)\n",
    ")\n",
    "env<-list(z=1,\n",
    "  p11=p1[1], p12=p1[2], p13=p1[3], p14=p1[4], p15=p1[5],\n",
    "  p21=p2[1], p22=p2[2], p23=p2[3], p24=p2[4], p25=p2[5],\n",
    "  p31=p3[1], p32=p3[2], p33=p3[3], p34=p3[4], p35=p3[5],\n",
    "  x11=X1[1], x12=X1[2], x13=X1[3], x14=X1[4], x15=X1[5],\n",
    "  x21=X2[1], x22=X2[2], x23=X2[3], x24=X2[4], x25=X2[5],\n",
    "  x31=X3[1], x32=X3[2], x33=X3[3], x34=X3[4], x35=X3[5]\n",
    ")\n",
    "\n",
    "derrivative_e<-D(e, 'z');\n",
    "derrivative2_e <- D(derrivative_e, 'z')\n",
    "M_gen <- eval(derrivative_e, env);\n",
    "D_gen <- eval(derrivative2_e, env) + M_gen - M_gen^2;\n",
    "Q_gen <- sqrt(D_gen);\n",
    "K_gen <- (Q_gen / M_gen) * 100;"
   ]
  },
  {
   "cell_type": "code",
   "execution_count": 24,
   "id": "15055957",
   "metadata": {},
   "outputs": [],
   "source": [
    "# Теоретический способ\n",
    "# Мат ожидание\n",
    "M_X1<-sum(p1*X1) \n",
    "M_X2<-sum(p2*X2)\n",
    "M_X3<-sum(p3*X3)\n",
    "M_X<-M_X1+M_X2+M_X3\n",
    "\n",
    "# Дисперсия\n",
    "D_X1<-sum(p1*(X1-M_X1)^2)\n",
    "D_X2<-sum(p2*(X2-M_X2)^2)\n",
    "D_X3<-sum(p3*(X3-M_X3)^2)\n",
    "D_X<-D_X1+D_X2+D_X3\n",
    "\n",
    "# Ср. квадратичное отклонение\n",
    "Q=sqrt(D_X)\n",
    "\n",
    "# Коэфф. вариации случайной величины\n",
    "K=(Q/M_X)*100"
   ]
  },
  {
   "cell_type": "code",
   "execution_count": 25,
   "id": "419a8d89",
   "metadata": {},
   "outputs": [],
   "source": [
    "# Экспериментальный способ\n",
    "getRes<-function(X,P){\n",
    "  y<-runif(1) # случайные числа от 0 до 1\n",
    "  sum<-0\n",
    "  res<-0\n",
    "  for(i in 1:length(P))\n",
    "    {\n",
    "    sum<-sum+P[i]\n",
    "    if(y<=sum)\n",
    "      {\n",
    "      res<-X[i]\n",
    "      break\n",
    "      }\n",
    "    }\n",
    "  return(res)\n",
    "}\n",
    "\n",
    "experimental<-c()\n",
    "for( i in 1:1000){\n",
    "  experimental<-c(experimental,getRes(X1,p1)+getRes(X2,p2)+getRes(X3,p3))\n",
    "}\n",
    "# Мат ожидание\n",
    "M_exp<-mean(experimental) \n",
    "\n",
    "# Ср. квадратич. отклонение\n",
    "Q_exp<-sd(experimental)\n",
    "\n",
    "# Дисперсия\n",
    "D_exp<-Q_exp^2 \n",
    "\n",
    "# Коэфф. вариации случайной величины\n",
    "K_exp<-(Q_exp/M_exp)*100"
   ]
  },
  {
   "cell_type": "code",
   "execution_count": 26,
   "id": "a746d942",
   "metadata": {},
   "outputs": [
    {
     "data": {
      "text/html": [
       "<table class=\"dataframe\">\n",
       "<caption>A data.frame: 4 × 3</caption>\n",
       "<thead>\n",
       "\t<tr><th></th><th scope=col>экспериментальное</th><th scope=col>теоретическое</th><th scope=col>производящая ф-ция</th></tr>\n",
       "\t<tr><th></th><th scope=col>&lt;dbl&gt;</th><th scope=col>&lt;dbl&gt;</th><th scope=col>&lt;dbl&gt;</th></tr>\n",
       "</thead>\n",
       "<tbody>\n",
       "\t<tr><th scope=row>ср.</th><td>  73.49200</td><td>  74.16215</td><td>  74.16215</td></tr>\n",
       "\t<tr><th scope=row>дис</th><td>1169.14708</td><td>1199.07377</td><td>1199.07377</td></tr>\n",
       "\t<tr><th scope=row>ср.кв.</th><td>  34.19279</td><td>  34.62764</td><td>  34.62764</td></tr>\n",
       "\t<tr><th scope=row>к.вар.</th><td>  46.52587</td><td>  46.69180</td><td>  46.69180</td></tr>\n",
       "</tbody>\n",
       "</table>\n"
      ],
      "text/latex": [
       "A data.frame: 4 × 3\n",
       "\\begin{tabular}{r|lll}\n",
       "  & экспериментальное & теоретическое & производящая ф-ция\\\\\n",
       "  & <dbl> & <dbl> & <dbl>\\\\\n",
       "\\hline\n",
       "\tср. &   73.49200 &   74.16215 &   74.16215\\\\\n",
       "\tдис & 1169.14708 & 1199.07377 & 1199.07377\\\\\n",
       "\tср.кв. &   34.19279 &   34.62764 &   34.62764\\\\\n",
       "\tк.вар. &   46.52587 &   46.69180 &   46.69180\\\\\n",
       "\\end{tabular}\n"
      ],
      "text/markdown": [
       "\n",
       "A data.frame: 4 × 3\n",
       "\n",
       "| <!--/--> | экспериментальное &lt;dbl&gt; | теоретическое &lt;dbl&gt; | производящая ф-ция &lt;dbl&gt; |\n",
       "|---|---|---|---|\n",
       "| ср. |   73.49200 |   74.16215 |   74.16215 |\n",
       "| дис | 1169.14708 | 1199.07377 | 1199.07377 |\n",
       "| ср.кв. |   34.19279 |   34.62764 |   34.62764 |\n",
       "| к.вар. |   46.52587 |   46.69180 |   46.69180 |\n",
       "\n"
      ],
      "text/plain": [
       "       экспериментальное теоретическое производящая ф-ция\n",
       "ср.      73.49200          74.16215      74.16215        \n",
       "дис    1169.14708        1199.07377    1199.07377        \n",
       "ср.кв.   34.19279          34.62764      34.62764        \n",
       "к.вар.   46.52587          46.69180      46.69180        "
      ]
     },
     "metadata": {},
     "output_type": "display_data"
    }
   ],
   "source": [
    "# сравнительная таблица\n",
    "table = data.frame(c(M_exp, D_exp, Q_exp, K_exp))\n",
    "table<-cbind(table, c(M_X, D_X, Q, K))\n",
    "table<-cbind(table, c(M_gen, D_gen, Q_gen, K_gen))\n",
    "rownames(table) <- c(\"ср.\", \"дис\", \"ср.кв.\", \"к.вар.\")\n",
    "colnames(table) <- c(\"экспериментальное\", \"теоретическое\", \"производящая ф-ция\")\n",
    "View(table)"
   ]
  },
  {
   "cell_type": "markdown",
   "id": "b06619a3",
   "metadata": {},
   "source": [
    "Полученные значения практически не отличаются"
   ]
  },
  {
   "cell_type": "markdown",
   "id": "e6d621e3-5b20-4829-888d-c70323d5bdce",
   "metadata": {},
   "source": [
    "## Задание 2.\n",
    "\n",
    "Заданы три независимые целочисленные неотрицательные случайные величины $X_1, X_2, X_3$, распределенные по закону Пуассона, необходимо найти математическое ожидание, дисперсию, среднее квадратическое отклонение и коэффициент вариации случайной величины $X_1+X_2+X_3$ численно и теоретически.\n",
    "Параметры закона Пуассона для $X_1, X_2, X_3$ определить в соответствии с вариантом."
   ]
  },
  {
   "cell_type": "code",
   "execution_count": 39,
   "id": "3ec37643-101e-4b3c-b666-021465d56f2c",
   "metadata": {},
   "outputs": [
    {
     "data": {
      "text/html": [
       "<style>\n",
       ".list-inline {list-style: none; margin:0; padding: 0}\n",
       ".list-inline>li {display: inline-block}\n",
       ".list-inline>li:not(:last-child)::after {content: \"\\00b7\"; padding: 0 .5ex}\n",
       "</style>\n",
       "<ol class=list-inline><li>0.710322446655482</li><li>0.246137301670387</li><li>0.389634444611147</li></ol>\n"
      ],
      "text/latex": [
       "\\begin{enumerate*}\n",
       "\\item 0.710322446655482\n",
       "\\item 0.246137301670387\n",
       "\\item 0.389634444611147\n",
       "\\end{enumerate*}\n"
      ],
      "text/markdown": [
       "1. 0.710322446655482\n",
       "2. 0.246137301670387\n",
       "3. 0.389634444611147\n",
       "\n",
       "\n"
      ],
      "text/plain": [
       "[1] 0.7103224 0.2461373 0.3896344"
      ]
     },
     "metadata": {},
     "output_type": "display_data"
    }
   ],
   "source": [
    "Variant<-13\n",
    "set.seed(Variant) \n",
    "coefficients=runif(3); coefficients\n",
    "a1=coefficients[1]\n",
    "a2=coefficients[2]\n",
    "a3=coefficients[3]"
   ]
  },
  {
   "cell_type": "markdown",
   "id": "4941d807",
   "metadata": {},
   "source": [
    "Мат. ожидание распределения Пуассона:\n",
    "$$M[X]=\\sum_{n=0}^\\infty n\\cdot P_{n}=\\sum_{n=0}^\\infty n\\cdot \\frac{\\left(\\lambda \\cdot \\tau\\right)^n}{n!}e^{-\\lambda\\cdot \\tau}=e^{-\\lambda\\cdot \\tau}\\cdot \\lambda \\cdot \\tau\\cdot \\sum_{n=1}^\\infty\\frac{\\left(\\lambda \\cdot \\tau\\right)^{n-1}}{(n-1)!}=e^{-\\lambda\\cdot \\tau}\\cdot \\lambda \\cdot \\tau\\cdot e^{\\lambda \\cdot \\tau}=\\lambda \\cdot \\tau$$\n",
    "\n",
    "$$ M[X_1] = \\lambda_1 \\cdot \\tau; M[X_2] = \\lambda_2 \\cdot \\tau; M[X_3] = \\lambda_3 \\cdot \\tau $$\n",
    "\n",
    "Мат. ожидание суммы независимых пуассоновских величин:\n",
    "$$ M_\\Sigma = \\Sigma_{i=1}^k{M[X_i]} = \\Sigma_{i=1}^3{M[X_i]} = M[X_1] + M[X_2] + M[X_3] = (\\lambda_1 + \\lambda_2 + \\lambda_3) \\cdot \\tau $$\n",
    "\n",
    "\n",
    "Дисперсия распределения Пуассона:\n",
    "$$D[X]=\\lambda \\cdot \\tau$$\n",
    "\n",
    "$$ D[X_1] = \\lambda_1 \\cdot \\tau; D[X_2] = \\lambda_2 \\cdot \\tau; D[X_3] = \\lambda_3 \\cdot \\tau $$\n",
    "\n",
    "Дисперсия суммы независимых пуассоновских величин:\n",
    "> Дисперсия алгебраической суммы двух независимых случайных величин равна сумме их дисперсией\n",
    "\n",
    "$$D[X]_\\Sigma = \\Sigma_{i=1}^k{D[X_i]} = \\Sigma_{i=1}^3{D[X_i]} = D[X_1] + D[X_2] + D[X_3] = (\\lambda_1 + \\lambda_2 + \\lambda_3) \\cdot \\tau$$\n",
    "\n"
   ]
  },
  {
   "cell_type": "code",
   "execution_count": 40,
   "id": "1d044e2e",
   "metadata": {},
   "outputs": [],
   "source": [
    "# Теоретический способ\n",
    "e <- expression((exp(1)^(-1*a1*(1-z)))*(exp(1)^(-1*a2*(1-z)))*(exp(1)^(-1*a3*(1-z))));\n",
    "\n",
    "tau2_teor <- 1\n",
    "M2 <- sum(coefficients) * tau2_teor;\n",
    "D2 <- sum(coefficients) * tau2_teor;\n",
    "Q2 <- sqrt(D2);\n",
    "K2 <- Q2 / M2 * 100;"
   ]
  },
  {
   "cell_type": "code",
   "execution_count": 41,
   "id": "a13426c4",
   "metadata": {},
   "outputs": [],
   "source": [
    "#Через формулы, приведеные в задании 1\n",
    "derrivative_e<-D(e, 'z');\n",
    "derrivative2_e <- D(derrivative_e, 'z')\n",
    "M_gen2 <- eval(derrivative_e, env);\n",
    "D_gen2 <- eval(derrivative2_e, env) + M_gen - M_gen^2;\n",
    "Q_gen2 <- sqrt(D_gen);\n",
    "K_gen2 <- (Q_gen / M_gen) * 100;"
   ]
  },
  {
   "cell_type": "code",
   "execution_count": 42,
   "id": "f311f346",
   "metadata": {},
   "outputs": [],
   "source": [
    "# Экспериментальный способ\n",
    "library(stats)\n",
    "# Генерирую выборку\n",
    "N <- 1000;\n",
    "\n",
    "exp2 <- vapply(\n",
    "  vector(mode=\"integer\", length = N),\n",
    "  function(arg) sum(rpois(1, a1), rpois(1, a2), rpois(1, a3)),\n",
    "  numeric(1)\n",
    ");\n",
    "\n",
    "# Выборочные среднее, дисперсия и т.п.\n",
    "M_exp2 <- mean(exp2, na.rm=TRUE);\n",
    "D_exp2 <-  sd(exp2, na.rm=TRUE);\n",
    "Q_exp2  <-  D_exp2^2;\n",
    "K_exp2 <- D_exp2 / M_exp2 * 100;"
   ]
  },
  {
   "cell_type": "code",
   "execution_count": 43,
   "id": "7b03a48d",
   "metadata": {},
   "outputs": [
    {
     "data": {
      "text/html": [
       "<table class=\"dataframe\">\n",
       "<caption>A data.frame: 4 × 3</caption>\n",
       "<thead>\n",
       "\t<tr><th></th><th scope=col>экспериментальное</th><th scope=col>теор</th><th scope=col>теор. производящая ф-ция</th></tr>\n",
       "\t<tr><th></th><th scope=col>&lt;dbl&gt;</th><th scope=col>&lt;dbl&gt;</th><th scope=col>&lt;dbl&gt;</th></tr>\n",
       "</thead>\n",
       "<tbody>\n",
       "\t<tr><th scope=row>ср.</th><td> 1.334000</td><td> 1.346094</td><td> 1.346094</td></tr>\n",
       "\t<tr><th scope=row>дис</th><td> 1.164388</td><td> 1.346094</td><td> 1.346094</td></tr>\n",
       "\t<tr><th scope=row>ср.кв.</th><td> 1.355800</td><td> 1.160213</td><td> 1.160213</td></tr>\n",
       "\t<tr><th scope=row>к.вар.</th><td>87.285470</td><td>86.191070</td><td>86.191070</td></tr>\n",
       "</tbody>\n",
       "</table>\n"
      ],
      "text/latex": [
       "A data.frame: 4 × 3\n",
       "\\begin{tabular}{r|lll}\n",
       "  & экспериментальное & теор & теор. производящая ф-ция\\\\\n",
       "  & <dbl> & <dbl> & <dbl>\\\\\n",
       "\\hline\n",
       "\tср. &  1.334000 &  1.346094 &  1.346094\\\\\n",
       "\tдис &  1.164388 &  1.346094 &  1.346094\\\\\n",
       "\tср.кв. &  1.355800 &  1.160213 &  1.160213\\\\\n",
       "\tк.вар. & 87.285470 & 86.191070 & 86.191070\\\\\n",
       "\\end{tabular}\n"
      ],
      "text/markdown": [
       "\n",
       "A data.frame: 4 × 3\n",
       "\n",
       "| <!--/--> | экспериментальное &lt;dbl&gt; | теор &lt;dbl&gt; | теор. производящая ф-ция &lt;dbl&gt; |\n",
       "|---|---|---|---|\n",
       "| ср. |  1.334000 |  1.346094 |  1.346094 |\n",
       "| дис |  1.164388 |  1.346094 |  1.346094 |\n",
       "| ср.кв. |  1.355800 |  1.160213 |  1.160213 |\n",
       "| к.вар. | 87.285470 | 86.191070 | 86.191070 |\n",
       "\n"
      ],
      "text/plain": [
       "       экспериментальное теор      теор. производящая ф-ция\n",
       "ср.     1.334000          1.346094  1.346094               \n",
       "дис     1.164388          1.346094  1.346094               \n",
       "ср.кв.  1.355800          1.160213  1.160213               \n",
       "к.вар. 87.285470         86.191070 86.191070               "
      ]
     },
     "metadata": {},
     "output_type": "display_data"
    }
   ],
   "source": [
    "# сравнительная таблица\n",
    "table = data.frame(c(M_exp2, D_exp2, Q_exp2, K_exp2))\n",
    "table<-cbind(table, c(M2, D2, Q2, K2))\n",
    "table<-cbind(table, c(M_gen2, D_gen2, Q_gen2, K_gen2))\n",
    "rownames(table) <- c(\"ср.\", \"дис\", \"ср.кв.\", \"к.вар.\")\n",
    "colnames(table) <- c(\"экспериментальное\", \"теор\", \"теор. производящая ф-ция\")\n",
    "View(table)"
   ]
  },
  {
   "cell_type": "markdown",
   "id": "da414c21-adb1-4eca-9728-e16f19b2ba90",
   "metadata": {},
   "source": [
    "## Задание 3.\n",
    "Обработка сообщения в специализированной ВС осуществляется $K$ последовательными программами. Длительность работы\n",
    "каждой программы представляет собой случайную величину, распределенную экспоненциально со средним значением $T=\\frac{1}{\\lambda}$. Найти преобразование Лапласа-Стилтьеса распределения длительности обработки сообщения в ВС, его математическое ожидание и дисперсию.\n",
    "Также построить модель и провести численный расчет."
   ]
  },
  {
   "cell_type": "code",
   "execution_count": 53,
   "id": "de51dab9-11c2-4174-b3e7-2dbb6aece235",
   "metadata": {},
   "outputs": [
    {
     "data": {
      "text/html": [
       "0.377256238134578"
      ],
      "text/latex": [
       "0.377256238134578"
      ],
      "text/markdown": [
       "0.377256238134578"
      ],
      "text/plain": [
       "[1] 0.3772562"
      ]
     },
     "metadata": {},
     "output_type": "display_data"
    }
   ],
   "source": [
    "Variant<-13\n",
    "alpha<-runif(7)[7]\n",
    "alpha"
   ]
  },
  {
   "cell_type": "code",
   "execution_count": 54,
   "id": "afe95f9f",
   "metadata": {},
   "outputs": [
    {
     "data": {
      "text/html": [
       "0.377256238134578"
      ],
      "text/latex": [
       "0.377256238134578"
      ],
      "text/markdown": [
       "0.377256238134578"
      ],
      "text/plain": [
       "[1] 0.3772562"
      ]
     },
     "metadata": {},
     "output_type": "display_data"
    },
    {
     "data": {
      "text/html": [
       "2.65071826232671"
      ],
      "text/latex": [
       "2.65071826232671"
      ],
      "text/markdown": [
       "2.65071826232671"
      ],
      "text/plain": [
       "[1] 2.650718"
      ]
     },
     "metadata": {},
     "output_type": "display_data"
    },
    {
     "data": {
      "text/html": [
       "11"
      ],
      "text/latex": [
       "11"
      ],
      "text/markdown": [
       "11"
      ],
      "text/plain": [
       "[1] 11"
      ]
     },
     "metadata": {},
     "output_type": "display_data"
    }
   ],
   "source": [
    "# K не задан условием задачи\n",
    "lambda <- 1/alpha\n",
    "k<-floor(runif(1, 10, 50))\n",
    "alpha; lambda; k"
   ]
  },
  {
   "cell_type": "markdown",
   "id": "d85e2b66",
   "metadata": {},
   "source": [
    "#### Преобразование Лапласа-Стилтьеса\n",
    "\n",
    "$$B(F(t))=\\beta(s)=\\int_0^\\infty e^{-st}dF(t)$$\n",
    "\n",
    "$f(t) = 1- e^{-\\lambda t} \\quad \\quad df(t) = \\lambda e^{-\\lambda t} dt $\n",
    "\n",
    "$\\beta(s)=\\int_0^\\infty e^{-st} \\lambda e^{-\\lambda t} dt = \\frac{\\lambda}{\\lambda+s}$\n",
    "\n",
    "<br>\n",
    "\n",
    "Свойство (8 лекция 2)\n",
    "> преобразования Лапласа-Стилтьеса: Начальный момент $n$-го порядка $M_n(\\zeta)$ неотрицательной случайной величины $\\zeta$\n",
    "$$M(\\zeta)=-\\beta'(0)$$\n",
    "$$D(\\zeta)=\\beta''(0)-\\left(\\beta'(0)\\right)^2$$\n",
    "\n",
    "$M(\\zeta)= - (-\\lambda / (s+\\lambda)^2)|_{s=0} = M(\\zeta)= \\frac{1}{\\lambda}$\n",
    "\n",
    "$D(\\zeta)=  \\lambda (2 s + 2 \\lambda) / (s + \\lambda)^4 -(-\\lambda / (s+\\lambda)^2)^2|_{s=0} = 2 / \\lambda^2 - 1 / \\lambda^2 = 1 / \\lambda^2 $\n",
    "\n",
    "Тут можно еще вопользоваться формулой моментов для экспоненциального распределения:\n",
    "$$ {M}_{X}(t)=\\left(1-{t \\over \\lambda }\\right)^{-1} \\quad {M}\\left[X^{n}\\right]={\\frac  {n!}{\\lambda ^{n}}}$$\n"
   ]
  },
  {
   "cell_type": "code",
   "execution_count": 55,
   "id": "ea7e5618",
   "metadata": {},
   "outputs": [],
   "source": [
    "M_3 <- 1/lambda;\n",
    "D_3 <- 1/lambda^2;\n",
    "Q_3 <- sqrt(D_3);\n",
    "K_3 <- (Q_3 / M_3) * 100;"
   ]
  },
  {
   "cell_type": "code",
   "execution_count": 56,
   "id": "3eb0013c",
   "metadata": {},
   "outputs": [
    {
     "data": {
      "text/html": [
       "<table class=\"dataframe\">\n",
       "<caption>A data.frame: 4 × 2</caption>\n",
       "<thead>\n",
       "\t<tr><th></th><th scope=col>экспериментальное</th><th scope=col>Лапласа-Стилтьеса</th></tr>\n",
       "\t<tr><th></th><th scope=col>&lt;dbl&gt;</th><th scope=col>&lt;dbl&gt;</th></tr>\n",
       "</thead>\n",
       "<tbody>\n",
       "\t<tr><th scope=row>ср.</th><td>  0.3545866</td><td>  0.3772562</td></tr>\n",
       "\t<tr><th scope=row>дис</th><td>  0.1367493</td><td>  0.1423223</td></tr>\n",
       "\t<tr><th scope=row>ср.кв.</th><td>  0.3697964</td><td>  0.3772562</td></tr>\n",
       "\t<tr><th scope=row>к.вар.</th><td>104.2894347</td><td>100.0000000</td></tr>\n",
       "</tbody>\n",
       "</table>\n"
      ],
      "text/latex": [
       "A data.frame: 4 × 2\n",
       "\\begin{tabular}{r|ll}\n",
       "  & экспериментальное & Лапласа-Стилтьеса\\\\\n",
       "  & <dbl> & <dbl>\\\\\n",
       "\\hline\n",
       "\tср. &   0.3545866 &   0.3772562\\\\\n",
       "\tдис &   0.1367493 &   0.1423223\\\\\n",
       "\tср.кв. &   0.3697964 &   0.3772562\\\\\n",
       "\tк.вар. & 104.2894347 & 100.0000000\\\\\n",
       "\\end{tabular}\n"
      ],
      "text/markdown": [
       "\n",
       "A data.frame: 4 × 2\n",
       "\n",
       "| <!--/--> | экспериментальное &lt;dbl&gt; | Лапласа-Стилтьеса &lt;dbl&gt; |\n",
       "|---|---|---|\n",
       "| ср. |   0.3545866 |   0.3772562 |\n",
       "| дис |   0.1367493 |   0.1423223 |\n",
       "| ср.кв. |   0.3697964 |   0.3772562 |\n",
       "| к.вар. | 104.2894347 | 100.0000000 |\n",
       "\n"
      ],
      "text/plain": [
       "       экспериментальное Лапласа-Стилтьеса\n",
       "ср.      0.3545866         0.3772562      \n",
       "дис      0.1367493         0.1423223      \n",
       "ср.кв.   0.3697964         0.3772562      \n",
       "к.вар. 104.2894347       100.0000000      "
      ]
     },
     "metadata": {},
     "output_type": "display_data"
    }
   ],
   "source": [
    "# Генерирую выборку\n",
    "N <- 1000;\n",
    "exp3 <- rexp(N, lambda)\n",
    "\n",
    "# Выборочные среднее, дисперсия и т.п.\n",
    "M_exp3 <- mean(exp3, na.rm=TRUE);\n",
    "Q_exp3 <-  sd(exp3, na.rm=TRUE);\n",
    "D_exp3  <-  Q_exp3^2;\n",
    "K_exp3 <- Q_exp3 / M_exp3 * 100;\n",
    "\n",
    "# сравнительная таблица\n",
    "table = data.frame(c(M_exp3, D_exp3, Q_exp3, K_exp3))\n",
    "table<-cbind(table, c(M_3, D_3, Q_3, K_3))\n",
    "rownames(table) <- c(\"ср.\", \"дис\", \"ср.кв.\", \"к.вар.\")\n",
    "colnames(table) <- c(\"экспериментальное\", \"Лапласа-Стилтьеса\")\n",
    "View(table)"
   ]
  },
  {
   "cell_type": "markdown",
   "id": "8a4525ec",
   "metadata": {},
   "source": [
    "### Модель системы с последовательной обработкой К этапов"
   ]
  },
  {
   "cell_type": "markdown",
   "id": "eccc9307",
   "metadata": {},
   "source": [
    "Свойство (9 лекция 2)\n",
    "> Если две независимые случайные величины $\\zeta_1, \\zeta_2$ имеют функции преобразования Лапласа-Стилтьеса $\\beta_1(s),\\beta_2(s)$, то случайная величина $\\zeta_1+\\zeta_2$ имеет преобразование Лапласа-Стилтьеса $\\beta_1(s)\\cdot\\beta_2(s)$\n",
    "\n",
    "$$\\beta_t(s)=\\beta_{t1}(s) \\beta_{t2}(s)... \\beta_{tk}(s) = \\prod_{i=1}^{k}\\beta_{ti}(s) = \\{\\beta_{t1}(s) = \\beta_{t2}(s) = ... = \\beta_{tk}(s)\\} = (\\beta_t(s))^k$$\n",
    "\n",
    "$\\beta_{ti}(s)= (\\frac{\\lambda}{\\lambda+s})^k$\n",
    "\n",
    "$M(\\zeta)= k / \\lambda \\quad \\quad D(\\zeta) = k / \\lambda^2 $"
   ]
  },
  {
   "cell_type": "code",
   "execution_count": 59,
   "id": "423d1f18",
   "metadata": {},
   "outputs": [],
   "source": [
    "M_32 <- k/lambda;\n",
    "D_32 <- k/lambda^2;\n",
    "Q_32 <- sqrt(D_32);\n",
    "K_32 <- (Q_32 / M_32) * 100;"
   ]
  },
  {
   "cell_type": "code",
   "execution_count": 60,
   "id": "3a26f378",
   "metadata": {},
   "outputs": [
    {
     "data": {
      "text/html": [
       "<table class=\"dataframe\">\n",
       "<caption>A data.frame: 4 × 2</caption>\n",
       "<thead>\n",
       "\t<tr><th></th><th scope=col>экспериментальное</th><th scope=col>Лапласа-Стилтьеса</th></tr>\n",
       "\t<tr><th></th><th scope=col>&lt;dbl&gt;</th><th scope=col>&lt;dbl&gt;</th></tr>\n",
       "</thead>\n",
       "<tbody>\n",
       "\t<tr><th scope=row>ср.</th><td> 4.127572</td><td> 4.149819</td></tr>\n",
       "\t<tr><th scope=row>дис</th><td> 1.570377</td><td> 1.565545</td></tr>\n",
       "\t<tr><th scope=row>ср.кв.</th><td> 1.253147</td><td> 1.251217</td></tr>\n",
       "\t<tr><th scope=row>к.вар.</th><td>30.360381</td><td>30.151134</td></tr>\n",
       "</tbody>\n",
       "</table>\n"
      ],
      "text/latex": [
       "A data.frame: 4 × 2\n",
       "\\begin{tabular}{r|ll}\n",
       "  & экспериментальное & Лапласа-Стилтьеса\\\\\n",
       "  & <dbl> & <dbl>\\\\\n",
       "\\hline\n",
       "\tср. &  4.127572 &  4.149819\\\\\n",
       "\tдис &  1.570377 &  1.565545\\\\\n",
       "\tср.кв. &  1.253147 &  1.251217\\\\\n",
       "\tк.вар. & 30.360381 & 30.151134\\\\\n",
       "\\end{tabular}\n"
      ],
      "text/markdown": [
       "\n",
       "A data.frame: 4 × 2\n",
       "\n",
       "| <!--/--> | экспериментальное &lt;dbl&gt; | Лапласа-Стилтьеса &lt;dbl&gt; |\n",
       "|---|---|---|\n",
       "| ср. |  4.127572 |  4.149819 |\n",
       "| дис |  1.570377 |  1.565545 |\n",
       "| ср.кв. |  1.253147 |  1.251217 |\n",
       "| к.вар. | 30.360381 | 30.151134 |\n",
       "\n"
      ],
      "text/plain": [
       "       экспериментальное Лапласа-Стилтьеса\n",
       "ср.     4.127572          4.149819        \n",
       "дис     1.570377          1.565545        \n",
       "ср.кв.  1.253147          1.251217        \n",
       "к.вар. 30.360381         30.151134        "
      ]
     },
     "metadata": {},
     "output_type": "display_data"
    }
   ],
   "source": [
    "# Генерирую выборку\n",
    "N <- 5000;\n",
    "exp32 <- vapply(\n",
    "  vector(mode=\"integer\", length = N),\n",
    "  # суммирую времена - значения элементарных событий\n",
    "  function(arg) sum(rexp(k, lambda)),  \n",
    "  numeric(1)\n",
    ");\n",
    "\n",
    "# Выборочные среднее, дисперсия и т.п.\n",
    "M_exp32 <- mean(exp32, na.rm=TRUE);\n",
    "Q_exp32 <-  sd(exp32, na.rm=TRUE);\n",
    "D_exp32  <-  Q_exp32^2;\n",
    "K_exp32 <- Q_exp32 / M_exp32 * 100;\n",
    "\n",
    "# сравнительная таблица\n",
    "table = data.frame(c(M_exp32, D_exp32, Q_exp32, K_exp32))\n",
    "table<-cbind(table, c(M_32, D_32, Q_32, K_32))\n",
    "rownames(table) <- c(\"ср.\", \"дис\", \"ср.кв.\", \"к.вар.\")\n",
    "colnames(table) <- c(\"экспериментальное\", \"Лапласа-Стилтьеса\")\n",
    "View(table)"
   ]
  },
  {
   "cell_type": "markdown",
   "id": "284c9d36-521b-43e3-8fe4-18b0a479b5fe",
   "metadata": {},
   "source": [
    "## Задание 4.\n",
    "\n",
    "Доказать, что сумма величин, распределенных по закону Пуассона с параметрами $\\alpha_1, \\alpha_2,\\ldots$ , распределена по закону Пуассона, также обосновать это экспериментально."
   ]
  },
  {
   "cell_type": "markdown",
   "id": "2d5e153d",
   "metadata": {},
   "source": [
    "Докажем утверждение для двух величин, очевидно, что оно также будет справедливо для произвольного количества слагаемых.\n",
    "\n",
    "Итак пусть величины $X_{1}$ и $X_{2}$ имеют распределение Пуассона с параметрами $\\lambda_{1}$ и  $\\lambda_{2}$ Тогда если $X_{1} = m$, а  $X_{2} = n$, то вероятность того, что их сумма $X_{3} = s = m + n$ равна:\n",
    "\n",
    "$$P(X_{3}=s) = P(X_{1}=m)\\cdot P(X_{2}=n) = \\sum_{m + n = s}^{} \\frac{\\lambda _{1}^{m}e^{-\\lambda _{1}}}{m!}\\cdot \\frac{\\lambda _{2}^{n}e^{-\\lambda _{2}}}{n!} = e^{-(\\lambda _{1} + \\lambda _{2})} \\sum_{m + n = s}^{} \\frac{\\lambda _{1}^{m}\\lambda _{2}^{n}}{m!n!}=$$\n",
    "$$= e^{-(\\lambda _{1} + \\lambda _{2})} \\sum_{n = 0}^{s} \\frac{\\lambda _{1}^{s-n}\\lambda _{2}^{n}}{(s-n)!n!} = \\frac{e^{-(\\lambda _{1} + \\lambda _{2})}}{s!} \\sum_{n = 0}^{s} \\frac{s!}{(s-n)!n!} \\lambda _{1}^{s-n}\\lambda _{2}^{n} = $$\n",
    "$$= \\frac{e^{-(\\lambda _{1} + \\lambda _{2})}}{s!} \\sum_{n = 0}^{s} \\mathbb{C}_{s}^{n} \\lambda _{1}^{s-n}\\lambda _{2}^{n}$$\n",
    "\n",
    "Пусть $ \\lambda = \\lambda _{1} + \\lambda _{2}$. $\\mathbb{C}$ -кол-во сочетаний. Применяя формулы бинома Ньютона сворачиваем выражение под суммой и получаем:\n",
    "\n",
    "$$P(X_{3}=s) = \\frac{e^{-\\lambda}}{s!} (\\lambda_{1} + \\lambda_{2})^{s} = \\frac{e^{-\\lambda}\\lambda^{s}}{s!}  $$\n",
    "\n",
    "Т.е. случайная величина$X_{3} = X_{1} + X_{2}$ распределена но закону Пуассона с параметром $ \\lambda = \\lambda _{1} + \\lambda _{2}$"
   ]
  },
  {
   "cell_type": "code",
   "execution_count": 73,
   "id": "c3eb8c18",
   "metadata": {},
   "outputs": [
    {
     "name": "stderr",
     "output_type": "stream",
     "text": [
      "Warning message in dpois(x, lambda1 + lambda2):\n",
      "\"non-integer x = 0.160000\"\n",
      "Warning message in dpois(x, lambda1 + lambda2):\n",
      "\"non-integer x = 0.320000\"\n",
      "Warning message in dpois(x, lambda1 + lambda2):\n",
      "\"non-integer x = 0.480000\"\n",
      "Warning message in dpois(x, lambda1 + lambda2):\n",
      "\"non-integer x = 0.640000\"\n",
      "Warning message in dpois(x, lambda1 + lambda2):\n",
      "\"non-integer x = 0.800000\"\n",
      "Warning message in dpois(x, lambda1 + lambda2):\n",
      "\"non-integer x = 0.960000\"\n",
      "Warning message in dpois(x, lambda1 + lambda2):\n",
      "\"non-integer x = 1.120000\"\n",
      "Warning message in dpois(x, lambda1 + lambda2):\n",
      "\"non-integer x = 1.280000\"\n",
      "Warning message in dpois(x, lambda1 + lambda2):\n",
      "\"non-integer x = 1.440000\"\n",
      "Warning message in dpois(x, lambda1 + lambda2):\n",
      "\"non-integer x = 1.600000\"\n",
      "Warning message in dpois(x, lambda1 + lambda2):\n",
      "\"non-integer x = 1.760000\"\n",
      "Warning message in dpois(x, lambda1 + lambda2):\n",
      "\"non-integer x = 1.920000\"\n",
      "Warning message in dpois(x, lambda1 + lambda2):\n",
      "\"non-integer x = 2.080000\"\n",
      "Warning message in dpois(x, lambda1 + lambda2):\n",
      "\"non-integer x = 2.240000\"\n",
      "Warning message in dpois(x, lambda1 + lambda2):\n",
      "\"non-integer x = 2.400000\"\n",
      "Warning message in dpois(x, lambda1 + lambda2):\n",
      "\"non-integer x = 2.560000\"\n",
      "Warning message in dpois(x, lambda1 + lambda2):\n",
      "\"non-integer x = 2.720000\"\n",
      "Warning message in dpois(x, lambda1 + lambda2):\n",
      "\"non-integer x = 2.880000\"\n",
      "Warning message in dpois(x, lambda1 + lambda2):\n",
      "\"non-integer x = 3.040000\"\n",
      "Warning message in dpois(x, lambda1 + lambda2):\n",
      "\"non-integer x = 3.200000\"\n",
      "Warning message in dpois(x, lambda1 + lambda2):\n",
      "\"non-integer x = 3.360000\"\n",
      "Warning message in dpois(x, lambda1 + lambda2):\n",
      "\"non-integer x = 3.520000\"\n",
      "Warning message in dpois(x, lambda1 + lambda2):\n",
      "\"non-integer x = 3.680000\"\n",
      "Warning message in dpois(x, lambda1 + lambda2):\n",
      "\"non-integer x = 3.840000\"\n",
      "Warning message in dpois(x, lambda1 + lambda2):\n",
      "\"non-integer x = 4.160000\"\n",
      "Warning message in dpois(x, lambda1 + lambda2):\n",
      "\"non-integer x = 4.320000\"\n",
      "Warning message in dpois(x, lambda1 + lambda2):\n",
      "\"non-integer x = 4.480000\"\n",
      "Warning message in dpois(x, lambda1 + lambda2):\n",
      "\"non-integer x = 4.640000\"\n",
      "Warning message in dpois(x, lambda1 + lambda2):\n",
      "\"non-integer x = 4.800000\"\n",
      "Warning message in dpois(x, lambda1 + lambda2):\n",
      "\"non-integer x = 4.960000\"\n",
      "Warning message in dpois(x, lambda1 + lambda2):\n",
      "\"non-integer x = 5.120000\"\n",
      "Warning message in dpois(x, lambda1 + lambda2):\n",
      "\"non-integer x = 5.280000\"\n",
      "Warning message in dpois(x, lambda1 + lambda2):\n",
      "\"non-integer x = 5.440000\"\n",
      "Warning message in dpois(x, lambda1 + lambda2):\n",
      "\"non-integer x = 5.600000\"\n",
      "Warning message in dpois(x, lambda1 + lambda2):\n",
      "\"non-integer x = 5.760000\"\n",
      "Warning message in dpois(x, lambda1 + lambda2):\n",
      "\"non-integer x = 5.920000\"\n",
      "Warning message in dpois(x, lambda1 + lambda2):\n",
      "\"non-integer x = 6.080000\"\n",
      "Warning message in dpois(x, lambda1 + lambda2):\n",
      "\"non-integer x = 6.240000\"\n",
      "Warning message in dpois(x, lambda1 + lambda2):\n",
      "\"non-integer x = 6.400000\"\n",
      "Warning message in dpois(x, lambda1 + lambda2):\n",
      "\"non-integer x = 6.560000\"\n",
      "Warning message in dpois(x, lambda1 + lambda2):\n",
      "\"non-integer x = 6.720000\"\n",
      "Warning message in dpois(x, lambda1 + lambda2):\n",
      "\"non-integer x = 6.880000\"\n",
      "Warning message in dpois(x, lambda1 + lambda2):\n",
      "\"non-integer x = 7.040000\"\n",
      "Warning message in dpois(x, lambda1 + lambda2):\n",
      "\"non-integer x = 7.200000\"\n",
      "Warning message in dpois(x, lambda1 + lambda2):\n",
      "\"non-integer x = 7.360000\"\n",
      "Warning message in dpois(x, lambda1 + lambda2):\n",
      "\"non-integer x = 7.520000\"\n",
      "Warning message in dpois(x, lambda1 + lambda2):\n",
      "\"non-integer x = 7.680000\"\n",
      "Warning message in dpois(x, lambda1 + lambda2):\n",
      "\"non-integer x = 7.840000\"\n",
      "Warning message in dpois(x, lambda1 + lambda2):\n",
      "\"non-integer x = 8.160000\"\n",
      "Warning message in dpois(x, lambda1 + lambda2):\n",
      "\"non-integer x = 8.320000\"\n",
      "Warning message in dpois(x, lambda1 + lambda2):\n",
      "\"non-integer x = 8.480000\"\n",
      "Warning message in dpois(x, lambda1 + lambda2):\n",
      "\"non-integer x = 8.640000\"\n",
      "Warning message in dpois(x, lambda1 + lambda2):\n",
      "\"non-integer x = 8.800000\"\n",
      "Warning message in dpois(x, lambda1 + lambda2):\n",
      "\"non-integer x = 8.960000\"\n",
      "Warning message in dpois(x, lambda1 + lambda2):\n",
      "\"non-integer x = 9.120000\"\n",
      "Warning message in dpois(x, lambda1 + lambda2):\n",
      "\"non-integer x = 9.280000\"\n",
      "Warning message in dpois(x, lambda1 + lambda2):\n",
      "\"non-integer x = 9.440000\"\n",
      "Warning message in dpois(x, lambda1 + lambda2):\n",
      "\"non-integer x = 9.600000\"\n",
      "Warning message in dpois(x, lambda1 + lambda2):\n",
      "\"non-integer x = 9.760000\"\n",
      "Warning message in dpois(x, lambda1 + lambda2):\n",
      "\"non-integer x = 9.920000\"\n",
      "Warning message in dpois(x, lambda1 + lambda2):\n",
      "\"non-integer x = 10.080000\"\n",
      "Warning message in dpois(x, lambda1 + lambda2):\n",
      "\"non-integer x = 10.240000\"\n",
      "Warning message in dpois(x, lambda1 + lambda2):\n",
      "\"non-integer x = 10.400000\"\n",
      "Warning message in dpois(x, lambda1 + lambda2):\n",
      "\"non-integer x = 10.560000\"\n",
      "Warning message in dpois(x, lambda1 + lambda2):\n",
      "\"non-integer x = 10.720000\"\n",
      "Warning message in dpois(x, lambda1 + lambda2):\n",
      "\"non-integer x = 10.880000\"\n",
      "Warning message in dpois(x, lambda1 + lambda2):\n",
      "\"non-integer x = 11.040000\"\n",
      "Warning message in dpois(x, lambda1 + lambda2):\n",
      "\"non-integer x = 11.200000\"\n",
      "Warning message in dpois(x, lambda1 + lambda2):\n",
      "\"non-integer x = 11.360000\"\n",
      "Warning message in dpois(x, lambda1 + lambda2):\n",
      "\"non-integer x = 11.520000\"\n",
      "Warning message in dpois(x, lambda1 + lambda2):\n",
      "\"non-integer x = 11.680000\"\n",
      "Warning message in dpois(x, lambda1 + lambda2):\n",
      "\"non-integer x = 11.840000\"\n",
      "Warning message in dpois(x, lambda1 + lambda2):\n",
      "\"non-integer x = 12.160000\"\n",
      "Warning message in dpois(x, lambda1 + lambda2):\n",
      "\"non-integer x = 12.320000\"\n",
      "Warning message in dpois(x, lambda1 + lambda2):\n",
      "\"non-integer x = 12.480000\"\n",
      "Warning message in dpois(x, lambda1 + lambda2):\n",
      "\"non-integer x = 12.640000\"\n",
      "Warning message in dpois(x, lambda1 + lambda2):\n",
      "\"non-integer x = 12.800000\"\n",
      "Warning message in dpois(x, lambda1 + lambda2):\n",
      "\"non-integer x = 12.960000\"\n",
      "Warning message in dpois(x, lambda1 + lambda2):\n",
      "\"non-integer x = 13.120000\"\n",
      "Warning message in dpois(x, lambda1 + lambda2):\n",
      "\"non-integer x = 13.280000\"\n",
      "Warning message in dpois(x, lambda1 + lambda2):\n",
      "\"non-integer x = 13.440000\"\n",
      "Warning message in dpois(x, lambda1 + lambda2):\n",
      "\"non-integer x = 13.600000\"\n",
      "Warning message in dpois(x, lambda1 + lambda2):\n",
      "\"non-integer x = 13.760000\"\n",
      "Warning message in dpois(x, lambda1 + lambda2):\n",
      "\"non-integer x = 13.920000\"\n",
      "Warning message in dpois(x, lambda1 + lambda2):\n",
      "\"non-integer x = 14.080000\"\n",
      "Warning message in dpois(x, lambda1 + lambda2):\n",
      "\"non-integer x = 14.240000\"\n",
      "Warning message in dpois(x, lambda1 + lambda2):\n",
      "\"non-integer x = 14.400000\"\n",
      "Warning message in dpois(x, lambda1 + lambda2):\n",
      "\"non-integer x = 14.560000\"\n",
      "Warning message in dpois(x, lambda1 + lambda2):\n",
      "\"non-integer x = 14.720000\"\n",
      "Warning message in dpois(x, lambda1 + lambda2):\n",
      "\"non-integer x = 14.880000\"\n",
      "Warning message in dpois(x, lambda1 + lambda2):\n",
      "\"non-integer x = 15.040000\"\n",
      "Warning message in dpois(x, lambda1 + lambda2):\n",
      "\"non-integer x = 15.200000\"\n",
      "Warning message in dpois(x, lambda1 + lambda2):\n",
      "\"non-integer x = 15.360000\"\n",
      "Warning message in dpois(x, lambda1 + lambda2):\n",
      "\"non-integer x = 15.520000\"\n",
      "Warning message in dpois(x, lambda1 + lambda2):\n",
      "\"non-integer x = 15.680000\"\n",
      "Warning message in dpois(x, lambda1 + lambda2):\n",
      "\"non-integer x = 15.840000\"\n"
     ]
    },
    {
     "data": {
      "image/png": "[encoded data removed]",
      "text/plain": [
       "Plot with title \"Гистограмма распределения суммы Пуассоновских величин\""
      ]
     },
     "metadata": {
      "image/png": {
       "height": 420,
       "width": 420
      }
     },
     "output_type": "display_data"
    }
   ],
   "source": [
    "set.seed(42)  # Для воспроизводимости результатов\n",
    "lambda1 <- 2  # Параметр для первой случайной величины\n",
    "lambda2 <- 3  # Параметр для второй случайной величины\n",
    "n <- 10000    # Количество симуляций\n",
    "\n",
    "# Генерация выборок\n",
    "X <- rpois(n, lambda1)\n",
    "Y <- rpois(n, lambda2)\n",
    "\n",
    "# Суммирование\n",
    "Z <- X + Y\n",
    "\n",
    "# Визуализация\n",
    "hist(Z, breaks = max(Z) - min(Z), probability = TRUE,\n",
    "     main = \"Гистограмма распределения суммы Пуассоновских величин\",\n",
    "     xlab = \"Сумма\", ylab = \"Плотность вероятности\",\n",
    "     col = \"lightblue\", border = \"black\")\n",
    "\n",
    "# Добавление теоретической кривой Пуассона\n",
    "curve(dpois(x, lambda1 + lambda2), col = \"red\", add = TRUE, lwd = 2)\n",
    "\n",
    "legend(\"topright\", legend = c(\"Эмпирическое распределение\", \"Пуассоновское распределение с параметром lambda1 + lambda2\"),\n",
    "       col = c(\"lightblue\", \"red\"), lwd = c(2, 2))"
   ]
  },
  {
   "cell_type": "markdown",
   "id": "df09bd25-2d9a-4373-82af-02771272d756",
   "metadata": {},
   "source": [
    "## Задание 5.\n",
    "\n",
    "Серверная станция состоит из двух модулей питания. Время безотказной работы каждого из них распределено по показательному закону с одинаковыми параметрами:\n",
    "$$f(t)=\\lambda e^{-\\lambda t}$$\n",
    "$t$ - время работы одного модуля до первого отказа.\n",
    "Второй модуль питания включается сразу же после отказа первого. Определить плотность вероятности времени безотказной работы всей системы, а также математическое ожидание и дисперсию времени безотказной работы."
   ]
  },
  {
   "cell_type": "code",
   "execution_count": 7,
   "id": "5b831d98-dd65-419e-898f-a936ebb63e0d",
   "metadata": {},
   "outputs": [
    {
     "data": {
      "text/html": [
       "0.711121222469956"
      ],
      "text/latex": [
       "0.711121222469956"
      ],
      "text/markdown": [
       "0.711121222469956"
      ],
      "text/plain": [
       "[1] 0.7111212"
      ]
     },
     "metadata": {},
     "output_type": "display_data"
    }
   ],
   "source": [
    "Variant<-13\n",
    "set.seed(Variant)\n",
    "alpha<-runif(100)[77]\n",
    "lambda<-1/alpha\n",
    "alpha; lambda"
   ]
  },
  {
   "cell_type": "markdown",
   "id": "76967e7f",
   "metadata": {},
   "source": [
    "время безотказной работы модуля 1 и 2:\n",
    "\\begin{align}\n",
    "t1, t2 \n",
    "\\end{align}\n",
    "\n",
    "время безотказной работы всей системы:\n",
    "\\begin{align}\n",
    "t = t_1+t_2 \n",
    "\\end{align}\n",
    "\n",
    "Таким образом, необходимо определить, каково распределение вероятности для случайной величины t.\n",
    "\n",
    "\\begin{align}\n",
    "F(t_i<T) = 1 - e^{-λt_i}\n",
    "\\end{align}\n",
    "** Плотность распределения вероятностей **\n",
    "(Свойство 9)\n",
    "\n",
    "\\begin{align}\n",
    "  \\int_{A(t)}^{B(t)} f(t1)*f(t-t1) dt1\n",
    "\\end{align}\n",
    "\n",
    "\\begin{align}\n",
    "  f(t1) = λe^{-λt1}\n",
    "\\end{align}\n",
    "\n",
    "\\begin{align}\n",
    "  f(t2) = λe^{-λ(t-t1)}\n",
    "\\end{align}\n",
    "\n",
    "Пределы интегрирования A и B вычисляются по формулам:\n",
    "\\begin{align}\n",
    "  A(t) = a + \\frac{(t-(a+d) + |t-(a+d)|)}{2}\n",
    "\\end{align}\n",
    "\n",
    "\\begin{align}\n",
    "B(t) =  b + \\frac{(t-(b+c) - |t-(b+c)|)}{2}\n",
    "\\end{align}\n",
    "\n",
    "\\begin{align}\n",
    "  a <= t1 <= b, c <= t2 <= d\n",
    "\\end{align}\n",
    "\n",
    "\\begin{align}\n",
    "  a = c = 0, b = d = inf\n",
    "\\end{align}\n",
    "Выполним преобразование Лапласа над плотностью вероятности:\n",
    "\\begin{align}\n",
    "   B_t(s) = \\int_{0}^{inf} e^{-st}dF(t) = \\int_{0}^{inf} e^{-st}f(t)dt\n",
    "\\end{align}\n",
    "\n",
    "\\begin{align}\n",
    "   B_t(s) = \\int_{0}^{inf} e^{-st}λ^2 e^{(-λt)}t dt\n",
    "\\end{align}\n",
    "\n",
    "\\begin{align}\n",
    "   B_t(s) = \\frac{λ^2}{(λ+s)^2}\n",
    "\\end{align}\n",
    "\n",
    "** Математическое ожидание **\n",
    "\\begin{align}\n",
    "   M = -B'_t(s)|_{s=0}\n",
    "\\end{align}\n",
    "\n",
    "\\begin{align}\n",
    "   M = - \\frac{-2λ^2}{(s+λ)^3} |_{s=0} = - \\frac{-2}{λ} = \\frac{2}{λ}\n",
    "\\end{align}\n",
    "\n",
    "** Дисперсия **\n",
    "\\begin{align}\n",
    "   D = B''_t(s)-(B'_t(s))^2|_{s=0}\n",
    "\\end{align}\n",
    "\n",
    "\\begin{align}\n",
    "   D = \\frac{6}{λ^2} - \\left(\\frac{-2}{λ}\\right)^2 = \\frac{2}{λ^2}\n",
    "\\end{align}"
   ]
  },
  {
   "cell_type": "code",
   "execution_count": 74,
   "id": "9ec4407e",
   "metadata": {},
   "outputs": [
    {
     "data": {
      "text/html": [
       "0.754512476269156"
      ],
      "text/latex": [
       "0.754512476269156"
      ],
      "text/markdown": [
       "0.754512476269156"
      ],
      "text/plain": [
       "[1] 0.7545125"
      ]
     },
     "metadata": {},
     "output_type": "display_data"
    },
    {
     "data": {
      "text/html": [
       "0.284644538422907"
      ],
      "text/latex": [
       "0.284644538422907"
      ],
      "text/markdown": [
       "0.284644538422907"
      ],
      "text/plain": [
       "[1] 0.2846445"
      ]
     },
     "metadata": {},
     "output_type": "display_data"
    }
   ],
   "source": [
    "mean_5 = 2/lambda; mean_5\n",
    "disp_5 = 2/(lambda^2); disp_5"
   ]
  },
  {
   "cell_type": "code",
   "execution_count": 75,
   "id": "f1713498",
   "metadata": {},
   "outputs": [
    {
     "data": {
      "text/html": [
       "0.75361408406907"
      ],
      "text/latex": [
       "0.75361408406907"
      ],
      "text/markdown": [
       "0.75361408406907"
      ],
      "text/plain": [
       "[1] 0.7536141"
      ]
     },
     "metadata": {},
     "output_type": "display_data"
    },
    {
     "data": {
      "text/html": [
       "0.290626772753268"
      ],
      "text/latex": [
       "0.290626772753268"
      ],
      "text/markdown": [
       "0.290626772753268"
      ],
      "text/plain": [
       "[1] 0.2906268"
      ]
     },
     "metadata": {},
     "output_type": "display_data"
    }
   ],
   "source": [
    "# Генерирую выборку\n",
    "N <- 10000;\n",
    "\n",
    "exp5 <- vapply(\n",
    "  vector(mode=\"integer\", length = N),\n",
    "  function(x) sum(rexp(2, lambda)),\n",
    "  numeric(1)\n",
    ");\n",
    "\n",
    "mean5_exp = mean(exp5); mean5_exp\n",
    "disp5_exp = (sd(exp5))^2; disp5_exp"
   ]
  },
  {
   "cell_type": "code",
   "execution_count": null,
   "id": "0531ad0d",
   "metadata": {},
   "outputs": [],
   "source": []
  }
 ],
 "metadata": {
  "kernelspec": {
   "display_name": "R",
   "language": "R",
   "name": "ir"
  },
  "language_info": {
   "codemirror_mode": "r",
   "file_extension": ".r",
   "mimetype": "text/x-r-source",
   "name": "R",
   "pygments_lexer": "r",
   "version": "4.3.2"
  }
 },
 "nbformat": 4,
 "nbformat_minor": 5
}
