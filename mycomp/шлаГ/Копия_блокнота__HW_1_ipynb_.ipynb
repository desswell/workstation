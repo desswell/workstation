{
 "cells": [
  {
   "cell_type": "markdown",
   "metadata": {
    "id": "hPbxrtZpfxdP"
   },
   "source": [
    "# Домашнее задание №1:\n",
    "### В рамках домашнего задания доступны две опции:\n",
    "* 1) Использовать готовый датасет (максимальная оценка 8);\n",
    "* 2) Самостоятельно собрать посты сообщества (максимальная оценка 10)."
   ]
  },
  {
   "cell_type": "markdown",
   "metadata": {
    "id": "ByetScTKtOPl"
   },
   "source": [
    "## Данные для опции 1\n",
    "\n",
    "#### Данные: ТОП-1000 аниме с сайта myanimelist.net\n",
    "#### Состав датасета:\n",
    "* title_english: Название на английском языке\n",
    "* synopsis: Описание на английском языке\n",
    "* year: Дата выхода\n",
    "* score: Оценка пользователей\n",
    "* genres: Жанры\n",
    "\n",
    "Ссылка на файл\n",
    "https://drive.google.com/file/d/1t1fgFnDo5oAx12b6upsymiWuoB1fT5tt/view?usp=sharing"
   ]
  },
  {
   "cell_type": "markdown",
   "metadata": {
    "id": "ZhDIkmuOtelv"
   },
   "source": [
    "## Данные для опции 2\n",
    "\n",
    "#### Данные: Посты сообщества https://vk.com/movie за период 29.01.2024 - 29.05.2024\n",
    "#### Необходимо собрать:\n",
    "* Дата поста\n",
    "* Текст поста\n",
    "* Кол-во лайков\n",
    "* Кол-во просмотров\n",
    "* Кол-во репостов\n",
    "\n",
    "\n"
   ]
  },
  {
   "cell_type": "markdown",
   "metadata": {
    "id": "cPXFc4kMtsPD"
   },
   "source": [
    "Если вы безумно хотите обкачать другое сообщество, напишите Тане. (Подойдут только большие, у которых много постов)."
   ]
  },
  {
   "cell_type": "markdown",
   "metadata": {
    "id": "eoHS1YerrELs"
   },
   "source": [
    "# Требования к отправке:\n",
    "* Название: TextMining2024_группа_ФамилияИмя_HW_1 Например: TextMining2024_2101_КазаковаТаня_HW_1.ipynb\n",
    "* После решения задания необходимо скачать файл (Файл -> Скачать -> IPYNB)\n",
    "* Затем отправить этот файл на почту tanusha.kazakova@gmail.com, тема письма должна быть аналогична названию файла (без .ipynb)"
   ]
  },
  {
   "cell_type": "markdown",
   "metadata": {
    "id": "Kkr8xnAP0MRf"
   },
   "source": [
    "# Дедлайн - 05.06.2024 12:00\n",
    "Далее работы без уважительной причины (справки) не принимаются.\n",
    "\n",
    "Можно ли задавать вопросы по дз? Можно. Чем раньше зададите, тем лучше."
   ]
  },
  {
   "cell_type": "markdown",
   "metadata": {
    "id": "xkJWeofFQ848"
   },
   "source": [
    "# !!!\n",
    "* Перед отправкой лишний раз проверьте, что тетрадка выполняется с нуля (Среда выполнения -> Выполнить все);\n",
    "* Для опции 2 потом не забудьте убрать свой API токен ВК;\n",
    "* Если вы берете какой-то код или его часть из интернета - оставляйте ссылку на источник;\n",
    "* Авторы работ, которые будут выглядеть подозрительно (плагиат/GPT/etc), будут защищать их на последней паре."
   ]
  },
  {
   "cell_type": "markdown",
   "metadata": {
    "id": "6d1Fp53FxAhg"
   },
   "source": [
    "### Опция 1"
   ]
  },
  {
   "cell_type": "code",
   "execution_count": 1,
   "metadata": {
    "colab": {
     "base_uri": "https://localhost:8080/",
     "height": 244
    },
    "id": "qJgDxCQmHalU",
    "outputId": "3d69a664-3bae-4a46-d4ff-8b00441bc082"
   },
   "outputs": [],
   "source": [
    "# Загрузим данные в Pandas. | 1 балл\n",
    "import pandas as pd\n",
    "\n",
    "df = pd.read_csv('myAnimeList_top1000.csv', sep=';')"
   ]
  },
  {
   "cell_type": "code",
   "execution_count": 2,
   "metadata": {
    "id": "t-o3a__LHaxx"
   },
   "outputs": [
    {
     "name": "stdout",
     "output_type": "stream",
     "text": [
      "Описание данных\n"
     ]
    },
    {
     "data": {
      "text/html": [
       "<div>\n",
       "<style scoped>\n",
       "    .dataframe tbody tr th:only-of-type {\n",
       "        vertical-align: middle;\n",
       "    }\n",
       "\n",
       "    .dataframe tbody tr th {\n",
       "        vertical-align: top;\n",
       "    }\n",
       "\n",
       "    .dataframe thead th {\n",
       "        text-align: right;\n",
       "    }\n",
       "</style>\n",
       "<table border=\"1\" class=\"dataframe\">\n",
       "  <thead>\n",
       "    <tr style=\"text-align: right;\">\n",
       "      <th></th>\n",
       "      <th>year</th>\n",
       "      <th>score</th>\n",
       "    </tr>\n",
       "  </thead>\n",
       "  <tbody>\n",
       "    <tr>\n",
       "      <th>count</th>\n",
       "      <td>557.000000</td>\n",
       "      <td>1000.00000</td>\n",
       "    </tr>\n",
       "    <tr>\n",
       "      <th>mean</th>\n",
       "      <td>2012.712747</td>\n",
       "      <td>8.16392</td>\n",
       "    </tr>\n",
       "    <tr>\n",
       "      <th>std</th>\n",
       "      <td>9.556726</td>\n",
       "      <td>0.28258</td>\n",
       "    </tr>\n",
       "    <tr>\n",
       "      <th>min</th>\n",
       "      <td>1970.000000</td>\n",
       "      <td>7.81000</td>\n",
       "    </tr>\n",
       "    <tr>\n",
       "      <th>25%</th>\n",
       "      <td>2008.000000</td>\n",
       "      <td>7.93000</td>\n",
       "    </tr>\n",
       "    <tr>\n",
       "      <th>50%</th>\n",
       "      <td>2015.000000</td>\n",
       "      <td>8.11000</td>\n",
       "    </tr>\n",
       "    <tr>\n",
       "      <th>75%</th>\n",
       "      <td>2020.000000</td>\n",
       "      <td>8.32000</td>\n",
       "    </tr>\n",
       "    <tr>\n",
       "      <th>max</th>\n",
       "      <td>2024.000000</td>\n",
       "      <td>9.37000</td>\n",
       "    </tr>\n",
       "  </tbody>\n",
       "</table>\n",
       "</div>"
      ],
      "text/plain": [
       "              year       score\n",
       "count   557.000000  1000.00000\n",
       "mean   2012.712747     8.16392\n",
       "std       9.556726     0.28258\n",
       "min    1970.000000     7.81000\n",
       "25%    2008.000000     7.93000\n",
       "50%    2015.000000     8.11000\n",
       "75%    2020.000000     8.32000\n",
       "max    2024.000000     9.37000"
      ]
     },
     "execution_count": 2,
     "metadata": {},
     "output_type": "execute_result"
    }
   ],
   "source": [
    "# Опишем наши данные. Есть ли какие-то аномалии или проблемные места? | 1 балл\n",
    "print('Описание данных')\n",
    "df.describe()"
   ]
  },
  {
   "cell_type": "markdown",
   "metadata": {},
   "source": [
    "Состав датасета:\n",
    "* title_english: Название на английском языке\n",
    "* synopsis: Описание на английском языке\n",
    "* year: Дата выхода\n",
    "* score: Оценка пользователей\n",
    "* genres: Жанры\n"
   ]
  },
  {
   "cell_type": "code",
   "execution_count": 3,
   "metadata": {},
   "outputs": [
    {
     "name": "stdout",
     "output_type": "stream",
     "text": [
      "                      title_english  \\\n",
      "0     Frieren: Beyond Journey's End   \n",
      "1  Fullmetal Alchemist: Brotherhood   \n",
      "2                       Steins;Gate   \n",
      "3                  Gintama Season 4   \n",
      "4   Attack on Titan Season 3 Part 2   \n",
      "5           Gintama: The Very Final   \n",
      "6                  Gintama Season 2   \n",
      "7                   Hunter x Hunter   \n",
      "8                Gintama: Enchousen   \n",
      "9     Legend of the Galactic Heroes   \n",
      "\n",
      "                                            synopsis    year  score  \\\n",
      "0  During their decade-long quest to defeat the D...  2023.0   9.37   \n",
      "1  After a horrific alchemy experiment goes wrong...  2009.0   9.09   \n",
      "2  Eccentric scientist Rintarou Okabe has a never...  2011.0   9.07   \n",
      "3  Gintoki, Shinpachi, and Kagura return as the f...  2015.0   9.06   \n",
      "4  Seeking to restore humanity's diminishing hope...  2019.0   9.05   \n",
      "5  Two years have passed following the Tendoshuu'...     NaN   9.04   \n",
      "6  After a one-year hiatus, Shinpachi Shimura ret...  2011.0   9.03   \n",
      "7  Hunters devote themselves to accomplishing haz...  2011.0   9.03   \n",
      "8  While Gintoki Sakata was away, the Yorozuya fo...  2012.0   9.02   \n",
      "9  The 150-year-long stalemate between the two in...     NaN   9.02   \n",
      "\n",
      "                              genres  \n",
      "0          Adventure, Drama, Fantasy  \n",
      "1  Action, Adventure, Drama, Fantasy  \n",
      "2            Drama, Sci-Fi, Suspense  \n",
      "3             Action, Comedy, Sci-Fi  \n",
      "4            Action, Drama, Suspense  \n",
      "5      Action, Comedy, Drama, Sci-Fi  \n",
      "6             Action, Comedy, Sci-Fi  \n",
      "7         Action, Adventure, Fantasy  \n",
      "8             Action, Comedy, Sci-Fi  \n",
      "9                      Drama, Sci-Fi  \n"
     ]
    }
   ],
   "source": [
    "print(df.head(10))"
   ]
  },
  {
   "cell_type": "code",
   "execution_count": 4,
   "metadata": {},
   "outputs": [
    {
     "name": "stdout",
     "output_type": "stream",
     "text": [
      "Пропуски в данных\n",
      "title_english    137\n",
      "synopsis           3\n",
      "year             443\n",
      "score              0\n",
      "genres            26\n",
      "dtype: int64\n"
     ]
    }
   ],
   "source": [
    "# Заметим, что колонка genres не удобная, в препроцессинге превратим его в список\n",
    "\n",
    "print('Пропуски в данных')\n",
    "mv = df.isnull().sum()\n",
    "print(mv)"
   ]
  },
  {
   "cell_type": "code",
   "execution_count": 5,
   "metadata": {
    "id": "CBXf0qc9Ha1U"
   },
   "outputs": [
    {
     "name": "stdout",
     "output_type": "stream",
     "text": [
      "Пропуски\n",
      "title_english    0\n",
      "synopsis         0\n",
      "year             0\n",
      "score            0\n",
      "genres           0\n",
      "dtype: int64\n",
      "                                title_english  \\\n",
      "0               Frieren: Beyond Journey's End   \n",
      "1            Fullmetal Alchemist: Brotherhood   \n",
      "2                                 Steins;Gate   \n",
      "3                            Gintama Season 4   \n",
      "4             Attack on Titan Season 3 Part 2   \n",
      "6                            Gintama Season 2   \n",
      "7                             Hunter x Hunter   \n",
      "8                          Gintama: Enchousen   \n",
      "10  Kaguya-sama: Love is War - Ultra Romantic   \n",
      "11            Bleach: Thousand-Year Blood War   \n",
      "\n",
      "                                             synopsis    year  score  \\\n",
      "0   During their decade-long quest to defeat the D...  2023.0   9.37   \n",
      "1   After a horrific alchemy experiment goes wrong...  2009.0   9.09   \n",
      "2   Eccentric scientist Rintarou Okabe has a never...  2011.0   9.07   \n",
      "3   Gintoki, Shinpachi, and Kagura return as the f...  2015.0   9.06   \n",
      "4   Seeking to restore humanity's diminishing hope...  2019.0   9.05   \n",
      "6   After a one-year hiatus, Shinpachi Shimura ret...  2011.0   9.03   \n",
      "7   Hunters devote themselves to accomplishing haz...  2011.0   9.03   \n",
      "8   While Gintoki Sakata was away, the Yorozuya fo...  2012.0   9.02   \n",
      "10  The elite members of Shuchiin Academy's studen...  2022.0   9.01   \n",
      "11  Substitute Soul Reaper Ichigo Kurosaki spends ...  2022.0   9.01   \n",
      "\n",
      "                                 genres  \n",
      "0           [Adventure, Drama, Fantasy]  \n",
      "1   [Action, Adventure, Drama, Fantasy]  \n",
      "2             [Drama, Sci-Fi, Suspense]  \n",
      "3              [Action, Comedy, Sci-Fi]  \n",
      "4             [Action, Drama, Suspense]  \n",
      "6              [Action, Comedy, Sci-Fi]  \n",
      "7          [Action, Adventure, Fantasy]  \n",
      "8              [Action, Comedy, Sci-Fi]  \n",
      "10                    [Comedy, Romance]  \n",
      "11         [Action, Adventure, Fantasy]  \n"
     ]
    }
   ],
   "source": [
    "# Сделаем препроцессинг текстовых данных | 2 балла\n",
    "# Удалим строки, в которых есть пропуски\n",
    "df = df.dropna()\n",
    "mv = df.isnull().sum()\n",
    "print('Пропуски')\n",
    "print(mv)\n",
    "\n",
    "df['genres'] = df['genres'].apply(lambda x: x.split(', '))\n",
    "\n",
    "print(df.head(10))"
   ]
  },
  {
   "cell_type": "code",
   "execution_count": 6,
   "metadata": {
    "id": "wuKd-_Z9Ha32"
   },
   "outputs": [
    {
     "name": "stdout",
     "output_type": "stream",
     "text": [
      "Самые часто встречающиеся слова: [('the', 4584), ('to', 2615), ('of', 2118), ('and', 2012), ('a', 1940), ('his', 1190), ('in', 1087), ('is', 1004), ('by', 901), ('with', 805)]\n",
      "Список стоп-слов: ['to', 'the', 'of', 'and', 'is', 'a', 'in', 'his']\n"
     ]
    }
   ],
   "source": [
    "# Посмотрим на самые часто встречающиеся слова. Хотим ли мы добавить что-то в список стоп-слов? | 2 балла\n",
    "from collections import Counter\n",
    "\n",
    "# ссылка на источник https://stackoverflow.com/questions/29903025/count-most-frequent-100-words-from-sentences-in-dataframe-pandas\n",
    "word_counts = Counter(\" \".join(df[\"synopsis\"].str.lower()).split())\n",
    "commons_words = word_counts.most_common(10)\n",
    "print('Самые часто встречающиеся слова:', commons_words)\n",
    "\n",
    "# Будем считать, что слова, которые встречаются более 1000 раз можно считать стоп-словами и добавим их в список\n",
    "\n",
    "threshold = 1000\n",
    "\n",
    "stop_words = [word for word, count in word_counts.items() if count >= threshold]\n",
    "\n",
    "print('Список стоп-слов:', stop_words)"
   ]
  },
  {
   "cell_type": "code",
   "execution_count": 7,
   "metadata": {
    "id": "LqomOhx3wYV1"
   },
   "outputs": [
    {
     "name": "stdout",
     "output_type": "stream",
     "text": [
      "Самые часто встречающиеся слова у аниме с жанром action (топ 10) [('the', 1964), ('to', 926), ('of', 907), ('a', 758), ('and', 755), ('his', 497), ('in', 445), ('by', 375), ('is', 349), ('as', 310)]\n"
     ]
    }
   ],
   "source": [
    "# Какие самые часто встречающиеся слова у аниме с жанром action (у тайтла могут быть и другие жанры)? | 1 балл\n",
    "\n",
    "action_synopsis = df[df['genres'].apply(lambda x: 'Action' in x)]['synopsis']\n",
    "\n",
    "common_action_words = Counter(\" \".join(action_synopsis.str.lower()).split()).most_common(10)\n",
    "\n",
    "print('Самые часто встречающиеся слова у аниме с жанром action (топ 10)', common_action_words)\n"
   ]
  },
  {
   "cell_type": "code",
   "execution_count": 8,
   "metadata": {
    "id": "f15sA5W-xLmn"
   },
   "outputs": [],
   "source": [
    "# Визуализируйте и сравните самые часто встречающиеся слова для первых 100 тайтлов и последних 100 тайтлов по оценке пользователей | 1 балл\n",
    "\n",
    "# Сначала отсортируем данные по оценке пользователей\n",
    "df_sorted = df.sort_values(by='score', ascending=False)\n",
    "top_100 = df_sorted.head(100)['synopsis']\n",
    "bottom_100 = df_sorted.tail(100)['synopsis']\n",
    "\n",
    "common_top_100 = Counter(\" \".join(top_100.str.lower()).split()).most_common(10)\n",
    "common_bottom_100 = Counter(\" \".join(bottom_100.str.lower()).split()).most_common(10)"
   ]
  },
  {
   "cell_type": "code",
   "execution_count": 9,
   "metadata": {},
   "outputs": [
    {
     "data": {
      "image/png": "[encoded data removed]",
      "text/plain": [
       "<Figure size 1500x1200 with 2 Axes>"
      ]
     },
     "metadata": {},
     "output_type": "display_data"
    }
   ],
   "source": [
    "import matplotlib.pyplot as plt\n",
    "\n",
    "df_top_100 = pd.DataFrame(common_top_100, columns=['Word', 'Count'])\n",
    "df_bottom_100 = pd.DataFrame(common_bottom_100, columns=['Word', 'Count'])\n",
    "\n",
    "fig, axes = plt.subplots(2, 1, figsize=(15, 12))\n",
    "\n",
    "axes[0].barh(df_top_100['Word'], df_top_100['Count'], color='blue')\n",
    "axes[0].set_title('Самые часто встречающиеся слова в топ 100 тайтлах по оценке пользователей')\n",
    "axes[0].invert_yaxis()\n",
    "\n",
    "axes[1].barh(df_bottom_100['Word'], df_bottom_100['Count'], color='red')\n",
    "axes[1].set_title('Самые часто встречающиеся слова в последних 100 тайтлах по оценке пользователей')\n",
    "axes[1].invert_yaxis()\n",
    "\n",
    "plt.tight_layout()\n",
    "plt.show()"
   ]
  },
  {
   "cell_type": "markdown",
   "metadata": {
    "id": "de04hVzKyk7O"
   },
   "source": [
    "### Опция 2"
   ]
  },
  {
   "cell_type": "code",
   "execution_count": 10,
   "metadata": {
    "id": "5psyea5FPyMq"
   },
   "outputs": [],
   "source": [
    "# Спарсите необходимые данные. | 2 балла"
   ]
  },
  {
   "cell_type": "code",
   "execution_count": 11,
   "metadata": {
    "id": "RV3L3ldjOs8P"
   },
   "outputs": [],
   "source": [
    "# Загрузим данные в Pandas. | 1 балл"
   ]
  },
  {
   "cell_type": "code",
   "execution_count": 12,
   "metadata": {
    "id": "e02mN1r2Hf-d"
   },
   "outputs": [],
   "source": [
    "# Опишем наши данные. Есть ли какие-то аномалии или проблемные места? | 1 балл"
   ]
  },
  {
   "cell_type": "code",
   "execution_count": 13,
   "metadata": {
    "id": "ui7lOB7_Hf-e"
   },
   "outputs": [],
   "source": [
    "# Сделаем препроцессинг текстовых данных. | 2 балла"
   ]
  },
  {
   "cell_type": "code",
   "execution_count": 14,
   "metadata": {
    "id": "8L43lEn5Hf-e"
   },
   "outputs": [],
   "source": [
    "# Посмотрим на самые часто встречающиеся слова. Хотим ли мы добавить что-то в список стоп-слов? | 2 балла"
   ]
  },
  {
   "cell_type": "code",
   "execution_count": 15,
   "metadata": {
    "id": "cJsrOzoRy_cR"
   },
   "outputs": [],
   "source": [
    "# Какие самые часто встречающиеся слова у ТОП-100 постов по кол-ву лайков? | 1 балл"
   ]
  },
  {
   "cell_type": "code",
   "execution_count": 16,
   "metadata": {
    "id": "eXLcTXEry2KZ"
   },
   "outputs": [],
   "source": [
    "# Визуализируйте и сравните самые часто встречающиеся слова для постов за январь-февраль и март-апрель. | 1 балл"
   ]
  }
 ],
 "metadata": {
  "colab": {
   "provenance": []
  },
  "kernelspec": {
   "display_name": "Python 3 (ipykernel)",
   "language": "python",
   "name": "python3"
  },
  "language_info": {
   "codemirror_mode": {
    "name": "ipython",
    "version": 3
   },
   "file_extension": ".py",
   "mimetype": "text/x-python",
   "name": "python",
   "nbconvert_exporter": "python",
   "pygments_lexer": "ipython3",
   "version": "3.10.6"
  }
 },
 "nbformat": 4,
 "nbformat_minor": 4
}
