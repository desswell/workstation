{
 "cells": [
  {
   "cell_type": "markdown",
   "id": "87fefa8a-beea-4827-ac49-806933db26aa",
   "metadata": {},
   "source": [
    "**Вариант 13**\n",
    "**Овчинников Данила ИУ5-82Б**"
   ]
  },
  {
   "cell_type": "markdown",
   "id": "afcbf781",
   "metadata": {},
   "source": [
    "# Лабораторная работа 2. Методы анализа параметров компонентов моделей функционирования КИС"
   ]
  },
  {
   "cell_type": "markdown",
   "id": "336e7746-cdf6-4b89-8702-a8d1bf0cf7ba",
   "metadata": {},
   "source": [
    "## Задание 1.\n",
    "\n",
    "Заданы три независимые целочисленные неотрицательные случайные величины $X_1, X_2, X_3$, необходимо найти математическое ожидание, дисперсию, среднее квадратическое отклонение и коэффициент вариации случайной величины $X_1+X_2+X_3$ численно и теоретически (из определения и с использованием производящей функции).\n",
    "В таблице ниже по вариантам представлены соответствия значений случайной величины и их вероятности. "
   ]
  },
  {
   "cell_type": "code",
   "execution_count": 21,
   "id": "02188160-4285-4b58-adeb-e991ac17b34e",
   "metadata": {},
   "outputs": [],
   "source": [
    "Variant<-13\n",
    "set.seed(Variant) \n",
    "X1<-sample(c(1:20),5)\n",
    "X2<-sample(c(3:100),5)\n",
    "X3<-sample(c(0:40),5)\n",
    "pp1<-runif(5)\n",
    "p1<-pp1/sum(pp1)\n",
    "pp2<-runif(5)\n",
    "p2<-pp2/sum(pp2)\n",
    "pp3<-runif(5)\n",
    "p3<-pp3/sum(pp3)"
   ]
  },
  {
   "cell_type": "code",
   "execution_count": 22,
   "id": "586ec80f-58c8-4a6f-8b54-5b9ad8723fec",
   "metadata": {},
   "outputs": [
    {
     "data": {
      "text/html": [
       "<table class=\"dataframe\">\n",
       "<caption>A data.frame: 5 × 6</caption>\n",
       "<thead>\n",
       "\t<tr><th scope=col>X1</th><th scope=col>X2</th><th scope=col>X3</th><th scope=col>p1</th><th scope=col>p2</th><th scope=col>p3</th></tr>\n",
       "\t<tr><th scope=col>&lt;int&gt;</th><th scope=col>&lt;int&gt;</th><th scope=col>&lt;int&gt;</th><th scope=col>&lt;dbl&gt;</th><th scope=col>&lt;dbl&gt;</th><th scope=col>&lt;dbl&gt;</th></tr>\n",
       "</thead>\n",
       "<tbody>\n",
       "\t<tr><td> 3</td><td>50</td><td>16</td><td>0.30560821</td><td>0.1217534</td><td>0.41209694</td></tr>\n",
       "\t<tr><td> 5</td><td>24</td><td>14</td><td>0.05020882</td><td>0.2337225</td><td>0.27519884</td></tr>\n",
       "\t<tr><td>10</td><td> 6</td><td>22</td><td>0.35879729</td><td>0.1560960</td><td>0.05466657</td></tr>\n",
       "\t<tr><td>13</td><td>66</td><td> 4</td><td>0.01835962</td><td>0.1494926</td><td>0.23155858</td></tr>\n",
       "\t<tr><td> 6</td><td>95</td><td>11</td><td>0.26702606</td><td>0.3389355</td><td>0.02647908</td></tr>\n",
       "</tbody>\n",
       "</table>\n"
      ],
      "text/latex": [
       "A data.frame: 5 × 6\n",
       "\\begin{tabular}{llllll}\n",
       " X1 & X2 & X3 & p1 & p2 & p3\\\\\n",
       " <int> & <int> & <int> & <dbl> & <dbl> & <dbl>\\\\\n",
       "\\hline\n",
       "\t  3 & 50 & 16 & 0.30560821 & 0.1217534 & 0.41209694\\\\\n",
       "\t  5 & 24 & 14 & 0.05020882 & 0.2337225 & 0.27519884\\\\\n",
       "\t 10 &  6 & 22 & 0.35879729 & 0.1560960 & 0.05466657\\\\\n",
       "\t 13 & 66 &  4 & 0.01835962 & 0.1494926 & 0.23155858\\\\\n",
       "\t  6 & 95 & 11 & 0.26702606 & 0.3389355 & 0.02647908\\\\\n",
       "\\end{tabular}\n"
      ],
      "text/markdown": [
       "\n",
       "A data.frame: 5 × 6\n",
       "\n",
       "| X1 &lt;int&gt; | X2 &lt;int&gt; | X3 &lt;int&gt; | p1 &lt;dbl&gt; | p2 &lt;dbl&gt; | p3 &lt;dbl&gt; |\n",
       "|---|---|---|---|---|---|\n",
       "|  3 | 50 | 16 | 0.30560821 | 0.1217534 | 0.41209694 |\n",
       "|  5 | 24 | 14 | 0.05020882 | 0.2337225 | 0.27519884 |\n",
       "| 10 |  6 | 22 | 0.35879729 | 0.1560960 | 0.05466657 |\n",
       "| 13 | 66 |  4 | 0.01835962 | 0.1494926 | 0.23155858 |\n",
       "|  6 | 95 | 11 | 0.26702606 | 0.3389355 | 0.02647908 |\n",
       "\n"
      ],
      "text/plain": [
       "  X1 X2 X3 p1         p2        p3        \n",
       "1  3 50 16 0.30560821 0.1217534 0.41209694\n",
       "2  5 24 14 0.05020882 0.2337225 0.27519884\n",
       "3 10  6 22 0.35879729 0.1560960 0.05466657\n",
       "4 13 66  4 0.01835962 0.1494926 0.23155858\n",
       "5  6 95 11 0.26702606 0.3389355 0.02647908"
      ]
     },
     "metadata": {},
     "output_type": "display_data"
    }
   ],
   "source": [
    "View(data.frame(X1, X2, X3, p1, p2, p3))"
   ]
  },
  {
   "cell_type": "code",
   "execution_count": 23,
   "id": "c87face6",
   "metadata": {},
   "outputs": [],
   "source": [
    "#Производящая функция\n",
    "e<-expression(\n",
    "  (p11*z^x11 + p12*z^x12 + p13*z^x13+ p14*z^x14+ p15*z^x15) *\n",
    "  (p21*z^x21 + p22*z^x22 + p23*z^x23+ p24*z^x24+ p25*z^x25) *\n",
    "  (p31*z^x31 + p32*z^x32 + p33*z^x33+ p34*z^x34+ p35*z^x35)\n",
    ")\n",
    "env<-list(z=1,\n",
    "  p11=p1[1], p12=p1[2], p13=p1[3], p14=p1[4], p15=p1[5],\n",
    "  p21=p2[1], p22=p2[2], p23=p2[3], p24=p2[4], p25=p2[5],\n",
    "  p31=p3[1], p32=p3[2], p33=p3[3], p34=p3[4], p35=p3[5],\n",
    "  x11=X1[1], x12=X1[2], x13=X1[3], x14=X1[4], x15=X1[5],\n",
    "  x21=X2[1], x22=X2[2], x23=X2[3], x24=X2[4], x25=X2[5],\n",
    "  x31=X3[1], x32=X3[2], x33=X3[3], x34=X3[4], x35=X3[5]\n",
    ")\n",
    "\n",
    "derrivative_e<-D(e, 'z');\n",
    "derrivative2_e <- D(derrivative_e, 'z')\n",
    "M_gen <- eval(derrivative_e, env);\n",
    "D_gen <- eval(derrivative2_e, env) + M_gen - M_gen^2;\n",
    "Q_gen <- sqrt(D_gen);\n",
    "K_gen <- (Q_gen / M_gen) * 100;"
   ]
  },
  {
   "cell_type": "code",
   "execution_count": 24,
   "id": "ab28833f",
   "metadata": {},
   "outputs": [],
   "source": [
    "# Теоретический способ\n",
    "# Мат ожидание\n",
    "M_X1<-sum(p1*X1) \n",
    "M_X2<-sum(p2*X2)\n",
    "M_X3<-sum(p3*X3)\n",
    "M_X<-M_X1+M_X2+M_X3\n",
    "\n",
    "# Дисперсия\n",
    "D_X1<-sum(p1*(X1-M_X1)^2)\n",
    "D_X2<-sum(p2*(X2-M_X2)^2)\n",
    "D_X3<-sum(p3*(X3-M_X3)^2)\n",
    "D_X<-D_X1+D_X2+D_X3\n",
    "\n",
    "# Ср. квадратичное отклонение\n",
    "Q=sqrt(D_X)\n",
    "\n",
    "# Коэфф. вариации случайной величины\n",
    "K=(Q/M_X)*100"
   ]
  },
  {
   "cell_type": "markdown",
   "id": "23fca050",
   "metadata": {},
   "source": [
    "#### Теоретически из определения и с использованием производящей функции\n",
    "Производящая функция\n",
    "$$P_{\\zeta}(z)=\\sum_{n=0}^\\infty p_nz^n$$\n",
    "\n",
    "$P_{\\zeta1}(z) = p_{11} \\cdot z^{10} + p_{12} \\cdot z^{13} + p_{13} \\cdot z^{14} + p_{14} \\cdot z^{4} + p_{15} \\cdot z^{12}$\n",
    "\n",
    "$P_{\\zeta2}(z) = p_{21} \\cdot z^{69} + p_{22} \\cdot z^{4} + p_{23} \\cdot z^{68} + p_{24} \\cdot z^{32} + p_{25} \\cdot z^{57}$\n",
    "\n",
    "$P_{\\zeta3}(z) = p_{31} \\cdot z^{2} + p_{32} \\cdot z^{20} + p_{33} \\cdot z^{7} + p_{44} \\cdot z^{21} + p_{45} \\cdot z^{32}$\n",
    "\n",
    "$P_{\\zeta}(z) = P_{\\zeta1+\\zeta2+\\zeta3}(z) = P_{\\zeta1}(z) \\cdot P_{\\zeta2}(z) \\cdot P_{\\zeta3}(z)$\n",
    "\n",
    "<br>\n",
    "\n",
    "$$M(\\zeta)=P'_{\\zeta}(z)|_{z=1}$$\n",
    "\n",
    "$$D(\\zeta)=P''_{\\zeta}(z)|_{z=1}+P'_{\\zeta}(z)|_{z=1}-\\left(P'_{\\zeta}(z)\\right)^2|_{z=1}$$\n",
    "\n",
    "<br>\n",
    "\n",
    "$P_{\\zeta1}(z)' = 10 \\cdot p_{11} \\cdot z^{9} + 13 \\cdot p_{12} \\cdot z^{12} + 14 \\cdot p_{13} \\cdot z^{13} + 4 \\cdot p_{14} \\cdot z^{3} + 12 \\cdot p_{15} \\cdot z^{11}$\n",
    "\n",
    "$P_{\\zeta2}(z)' = 69 \\cdot p_{21} \\cdot z^{68} + 4 \\cdot p_{22} \\cdot z^{3} + 68 \\cdot p_{23} \\cdot z^{67} + 32 \\cdot p_{24} \\cdot z^{31} + 57 \\cdot p_{25} \\cdot z^{56}$\n",
    "\n",
    "$P_{\\zeta3}(z)' = 2 \\cdot p_{31} \\cdot z^{1} + 20 \\cdot p_{32} \\cdot z^{19} + 7 \\cdot p_{33} \\cdot z^{6} + 21 \\cdot p_{44} \\cdot z^{20} + 32 \\cdot p_{45} \\cdot z^{31}$\n",
    "\n",
    "$P_{\\zeta}(z)' = P_{\\zeta1}(z)' \\cdot P_{\\zeta2}(z) \\cdot P_{\\zeta3}(z) + P_{\\zeta1}(z) \\cdot P_{\\zeta2}(z)' \\cdot P_{\\zeta3}(z) + P_{\\zeta1}(z) \\cdot P_{\\zeta2}(z) \\cdot P_{\\zeta3}(z)'  \\quad \\quad ((a \\cdot b \\cdot c)' = a' \\cdot b \\cdot c + a \\cdot b' \\cdot c + a \\cdot b \\cdot c')$"
   ]
  },
  {
   "cell_type": "code",
   "execution_count": 25,
   "id": "14507aef",
   "metadata": {},
   "outputs": [],
   "source": [
    "# Экспериментальный способ\n",
    "getRes<-function(X,P){\n",
    "  y<-runif(1) # случайные числа от 0 до 1\n",
    "  sum<-0\n",
    "  res<-0\n",
    "  for(i in 1:length(P))\n",
    "    {\n",
    "    sum<-sum+P[i]\n",
    "    if(y<=sum)\n",
    "      {\n",
    "      res<-X[i]\n",
    "      break\n",
    "      }\n",
    "    }\n",
    "  return(res)\n",
    "}\n",
    "\n",
    "experimental<-c()\n",
    "for( i in 1:1000){\n",
    "  experimental<-c(experimental,getRes(X1,p1)+getRes(X2,p2)+getRes(X3,p3))\n",
    "}\n",
    "# Мат ожидание\n",
    "M_exp<-mean(experimental) \n",
    "\n",
    "# Ср. квадратич. отклонение\n",
    "Q_exp<-sd(experimental)\n",
    "\n",
    "# Дисперсия\n",
    "D_exp<-Q_exp^2 \n",
    "\n",
    "# Коэфф. вариации случайной величины\n",
    "K_exp<-(Q_exp/M_exp)*100"
   ]
  },
  {
   "cell_type": "code",
   "execution_count": 26,
   "id": "2a585005",
   "metadata": {},
   "outputs": [
    {
     "data": {
      "text/html": [
       "<table class=\"dataframe\">\n",
       "<caption>A data.frame: 4 × 3</caption>\n",
       "<thead>\n",
       "\t<tr><th></th><th scope=col>экспериментальное</th><th scope=col>теоретическое</th><th scope=col>производящая ф-ция</th></tr>\n",
       "\t<tr><th></th><th scope=col>&lt;dbl&gt;</th><th scope=col>&lt;dbl&gt;</th><th scope=col>&lt;dbl&gt;</th></tr>\n",
       "</thead>\n",
       "<tbody>\n",
       "\t<tr><th scope=row>ср.</th><td>  73.49200</td><td>  74.16215</td><td>  74.16215</td></tr>\n",
       "\t<tr><th scope=row>дис</th><td>1169.14708</td><td>1199.07377</td><td>1199.07377</td></tr>\n",
       "\t<tr><th scope=row>ср.кв.</th><td>  34.19279</td><td>  34.62764</td><td>  34.62764</td></tr>\n",
       "\t<tr><th scope=row>к.вар.</th><td>  46.52587</td><td>  46.69180</td><td>  46.69180</td></tr>\n",
       "</tbody>\n",
       "</table>\n"
      ],
      "text/latex": [
       "A data.frame: 4 × 3\n",
       "\\begin{tabular}{r|lll}\n",
       "  & экспериментальное & теоретическое & производящая ф-ция\\\\\n",
       "  & <dbl> & <dbl> & <dbl>\\\\\n",
       "\\hline\n",
       "\tср. &   73.49200 &   74.16215 &   74.16215\\\\\n",
       "\tдис & 1169.14708 & 1199.07377 & 1199.07377\\\\\n",
       "\tср.кв. &   34.19279 &   34.62764 &   34.62764\\\\\n",
       "\tк.вар. &   46.52587 &   46.69180 &   46.69180\\\\\n",
       "\\end{tabular}\n"
      ],
      "text/markdown": [
       "\n",
       "A data.frame: 4 × 3\n",
       "\n",
       "| <!--/--> | экспериментальное &lt;dbl&gt; | теоретическое &lt;dbl&gt; | производящая ф-ция &lt;dbl&gt; |\n",
       "|---|---|---|---|\n",
       "| ср. |   73.49200 |   74.16215 |   74.16215 |\n",
       "| дис | 1169.14708 | 1199.07377 | 1199.07377 |\n",
       "| ср.кв. |   34.19279 |   34.62764 |   34.62764 |\n",
       "| к.вар. |   46.52587 |   46.69180 |   46.69180 |\n",
       "\n"
      ],
      "text/plain": [
       "       экспериментальное теоретическое производящая ф-ция\n",
       "ср.      73.49200          74.16215      74.16215        \n",
       "дис    1169.14708        1199.07377    1199.07377        \n",
       "ср.кв.   34.19279          34.62764      34.62764        \n",
       "к.вар.   46.52587          46.69180      46.69180        "
      ]
     },
     "metadata": {},
     "output_type": "display_data"
    }
   ],
   "source": [
    "# сравнительная таблица\n",
    "table = data.frame(c(M_exp, D_exp, Q_exp, K_exp))\n",
    "table<-cbind(table, c(M_X, D_X, Q, K))\n",
    "table<-cbind(table, c(M_gen, D_gen, Q_gen, K_gen))\n",
    "rownames(table) <- c(\"ср.\", \"дис\", \"ср.кв.\", \"к.вар.\")\n",
    "colnames(table) <- c(\"экспериментальное\", \"теоретическое\", \"производящая ф-ция\")\n",
    "View(table)"
   ]
  },
  {
   "cell_type": "markdown",
   "id": "84f6ff54",
   "metadata": {},
   "source": [
    "Полученные значения практически не отличаются"
   ]
  },
  {
   "cell_type": "markdown",
   "id": "e6d621e3-5b20-4829-888d-c70323d5bdce",
   "metadata": {},
   "source": [
    "## Задание 2.\n",
    "\n",
    "Заданы три независимые целочисленные неотрицательные случайные величины $X_1, X_2, X_3$, распределенные по закону Пуассона, необходимо найти математическое ожидание, дисперсию, среднее квадратическое отклонение и коэффициент вариации случайной величины $X_1+X_2+X_3$ численно и теоретически.\n",
    "Параметры закона Пуассона для $X_1, X_2, X_3$ определить в соответствии с вариантом."
   ]
  },
  {
   "cell_type": "code",
   "execution_count": 5,
   "id": "3ec37643-101e-4b3c-b666-021465d56f2c",
   "metadata": {},
   "outputs": [
    {
     "data": {
      "text/html": [
       "<style>\n",
       ".list-inline {list-style: none; margin:0; padding: 0}\n",
       ".list-inline>li {display: inline-block}\n",
       ".list-inline>li:not(:last-child)::after {content: \"\\00b7\"; padding: 0 .5ex}\n",
       "</style>\n",
       "<ol class=list-inline><li>0.2655086631421</li><li>0.37212389963679</li><li>0.572853363351896</li></ol>\n"
      ],
      "text/latex": [
       "\\begin{enumerate*}\n",
       "\\item 0.2655086631421\n",
       "\\item 0.37212389963679\n",
       "\\item 0.572853363351896\n",
       "\\end{enumerate*}\n"
      ],
      "text/markdown": [
       "1. 0.2655086631421\n",
       "2. 0.37212389963679\n",
       "3. 0.572853363351896\n",
       "\n",
       "\n"
      ],
      "text/plain": [
       "[1] 0.2655087 0.3721239 0.5728534"
      ]
     },
     "metadata": {},
     "output_type": "display_data"
    }
   ],
   "source": [
    "Variant<-1\n",
    "set.seed(Variant) \n",
    "runif(3)"
   ]
  },
  {
   "cell_type": "markdown",
   "id": "da414c21-adb1-4eca-9728-e16f19b2ba90",
   "metadata": {},
   "source": [
    "## Задание 3.\n",
    "Обработка сообщения в специализированной ВС осуществляется $K$ последовательными программами. Длительность работы\n",
    "каждой программы представляет собой случайную величину, распределенную экспоненциально со средним значением $T=\\frac{1}{\\lambda}$. Найти преобразование Лапласа-Стилтьеса распределения длительности обработки сообщения в ВС, его математическое ожидание и дисперсию.\n",
    "Также построить модель и провести численный расчет."
   ]
  },
  {
   "cell_type": "code",
   "execution_count": 6,
   "id": "de51dab9-11c2-4174-b3e7-2dbb6aece235",
   "metadata": {},
   "outputs": [
    {
     "data": {
      "text/html": [
       "0.0617862704675645"
      ],
      "text/latex": [
       "0.0617862704675645"
      ],
      "text/markdown": [
       "0.0617862704675645"
      ],
      "text/plain": [
       "[1] 0.06178627"
      ]
     },
     "metadata": {},
     "output_type": "display_data"
    }
   ],
   "source": [
    "Variant<-1\n",
    "alpha<-runif(7)[7]\n",
    "alpha"
   ]
  },
  {
   "cell_type": "markdown",
   "id": "284c9d36-521b-43e3-8fe4-18b0a479b5fe",
   "metadata": {},
   "source": [
    "## Задание 4.\n",
    "\n",
    "Доказать, что сумма величин, распределенных по закону Пуассона с параметрами $\\alpha_1, \\alpha_2,\\ldots$ , распределена по закону Пуассона, также обосновать это экспериментально."
   ]
  },
  {
   "cell_type": "markdown",
   "id": "df09bd25-2d9a-4373-82af-02771272d756",
   "metadata": {},
   "source": [
    "## Задание 5.\n",
    "\n",
    "Серверная станция состоит из двух модулей питания. Время безотказной работы каждого из них распределено по показательному закону с одинаковыми параметрами:\n",
    "$$f(t)=\\lambda e^{-\\lambda t}$$\n",
    "$t$ - время работы одного модуля до первого отказа.\n",
    "Второй модуль питания включается сразу же после отказа первого. Определить плотность вероятности времени безотказной работы всей системы, а также математическое ожидание и дисперсию времени безотказной работы."
   ]
  },
  {
   "cell_type": "code",
   "execution_count": 7,
   "id": "5b831d98-dd65-419e-898f-a936ebb63e0d",
   "metadata": {},
   "outputs": [
    {
     "data": {
      "text/html": [
       "0.711121222469956"
      ],
      "text/latex": [
       "0.711121222469956"
      ],
      "text/markdown": [
       "0.711121222469956"
      ],
      "text/plain": [
       "[1] 0.7111212"
      ]
     },
     "metadata": {},
     "output_type": "display_data"
    }
   ],
   "source": [
    "Variant<-1 \n",
    "alpha<-runif(100)[77]\n",
    "alpha"
   ]
  }
 ],
 "metadata": {
  "kernelspec": {
   "display_name": "R",
   "language": "R",
   "name": "ir"
  },
  "language_info": {
   "codemirror_mode": "r",
   "file_extension": ".r",
   "mimetype": "text/x-r-source",
   "name": "R",
   "pygments_lexer": "r",
   "version": "4.3.2"
  }
 },
 "nbformat": 4,
 "nbformat_minor": 5
}
